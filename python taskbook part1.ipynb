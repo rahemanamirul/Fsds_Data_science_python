{
 "cells": [
  {
   "cell_type": "code",
   "execution_count": 1,
   "id": "a4064cf2",
   "metadata": {},
   "outputs": [],
   "source": [
    "import sys\n",
    "import keyword\n",
    "import operator\n",
    "from datetime import datetime\n",
    "import os"
   ]
  },
  {
   "cell_type": "markdown",
   "id": "33ac75ea",
   "metadata": {},
   "source": [
    "keywords\n",
    "\n",
    "Keywords are the reserved words in Python and can't be used as an identifier"
   ]
  },
  {
   "cell_type": "code",
   "execution_count": 2,
   "id": "202c902c",
   "metadata": {},
   "outputs": [
    {
     "name": "stdout",
     "output_type": "stream",
     "text": [
      "['False', 'None', 'True', 'and', 'as', 'assert', 'async', 'await', 'break', 'class', 'continue', 'def', 'del', 'elif', 'else', 'except', 'finally', 'for', 'from', 'global', 'if', 'import', 'in', 'is', 'lambda', 'nonlocal', 'not', 'or', 'pass', 'raise', 'return', 'try', 'while', 'with', 'yield']\n"
     ]
    }
   ],
   "source": [
    "print(keyword.kwlist) # list all python keywords"
   ]
  },
  {
   "cell_type": "markdown",
   "id": "d076186e",
   "metadata": {},
   "source": [
    "list\n",
    "\n",
    "1) List is an ordered sequence of items.\n",
    "2) We can have different data types under a list. E.g we can have integer, float and string items in\n",
    "a same list.\n",
    "\n",
    "list creation\n"
   ]
  },
  {
   "cell_type": "code",
   "execution_count": 3,
   "id": "03326fa4",
   "metadata": {},
   "outputs": [
    {
     "name": "stdout",
     "output_type": "stream",
     "text": [
      "<class 'list'>\n"
     ]
    }
   ],
   "source": [
    "list1 = [] # empty list\n",
    "print(type(list1))"
   ]
  },
  {
   "cell_type": "code",
   "execution_count": 6,
   "id": "fb8850ee",
   "metadata": {},
   "outputs": [],
   "source": [
    "list2 = [10,20,60]  # list of integers number\n",
    "list3 = [10,77,30.66,60.89]  # list of float number"
   ]
  },
  {
   "cell_type": "code",
   "execution_count": 7,
   "id": "47d473b9",
   "metadata": {},
   "outputs": [],
   "source": [
    "list4 = [\"one\",\"two\" , \"three\"]  #list of string"
   ]
  },
  {
   "cell_type": "code",
   "execution_count": 8,
   "id": "5d0483a4",
   "metadata": {},
   "outputs": [],
   "source": [
    "list5 = [\"amirul\", 25 ,[50, 100],[150, 90]]   #nasted lists"
   ]
  },
  {
   "cell_type": "code",
   "execution_count": 9,
   "id": "91631b6a",
   "metadata": {},
   "outputs": [],
   "source": [
    "list6 = [100, \"Amir\", 18.99] # list of mixted data type"
   ]
  },
  {
   "cell_type": "code",
   "execution_count": 10,
   "id": "9fe5c2fe",
   "metadata": {},
   "outputs": [],
   "source": [
    "list7 = [100, \"amirul\", [50,100],[150,90] , {\"Amir\" , \"David\"}]\n"
   ]
  },
  {
   "cell_type": "code",
   "execution_count": 11,
   "id": "b6138266",
   "metadata": {},
   "outputs": [
    {
     "data": {
      "text/plain": [
       "3"
      ]
     },
     "execution_count": 11,
     "metadata": {},
     "output_type": "execute_result"
    }
   ],
   "source": [
    "len(list6) # length of list"
   ]
  },
  {
   "cell_type": "markdown",
   "id": "f94bc5c1",
   "metadata": {},
   "source": [
    "# list indexing"
   ]
  },
  {
   "cell_type": "code",
   "execution_count": 12,
   "id": "af71a1b8",
   "metadata": {},
   "outputs": [
    {
     "data": {
      "text/plain": [
       "10"
      ]
     },
     "execution_count": 12,
     "metadata": {},
     "output_type": "execute_result"
    }
   ],
   "source": [
    "list2[0] # Retrive first element of the list"
   ]
  },
  {
   "cell_type": "code",
   "execution_count": 13,
   "id": "d19b0a32",
   "metadata": {},
   "outputs": [
    {
     "data": {
      "text/plain": [
       "'one'"
      ]
     },
     "execution_count": 13,
     "metadata": {},
     "output_type": "execute_result"
    }
   ],
   "source": [
    "list4[0] # Retretive first element of the list"
   ]
  },
  {
   "cell_type": "code",
   "execution_count": 14,
   "id": "fe289e0a",
   "metadata": {},
   "outputs": [
    {
     "data": {
      "text/plain": [
       "'o'"
      ]
     },
     "execution_count": 14,
     "metadata": {},
     "output_type": "execute_result"
    }
   ],
   "source": [
    " list4[0][0] # nasted indexing - access the first character of the first list element"
   ]
  },
  {
   "cell_type": "code",
   "execution_count": 15,
   "id": "d1e76f92",
   "metadata": {},
   "outputs": [
    {
     "data": {
      "text/plain": [
       "'three'"
      ]
     },
     "execution_count": 15,
     "metadata": {},
     "output_type": "execute_result"
    }
   ],
   "source": [
    "list4[-1] # LAST item of the list"
   ]
  },
  {
   "cell_type": "code",
   "execution_count": 16,
   "id": "55ff5b59",
   "metadata": {},
   "outputs": [
    {
     "data": {
      "text/plain": [
       "[150, 90]"
      ]
     },
     "execution_count": 16,
     "metadata": {},
     "output_type": "execute_result"
    }
   ],
   "source": [
    "list5[-1] # last item of  the list"
   ]
  },
  {
   "cell_type": "markdown",
   "id": "8878b24f",
   "metadata": {},
   "source": [
    "# List slicing"
   ]
  },
  {
   "cell_type": "code",
   "execution_count": 17,
   "id": "714eb9e3",
   "metadata": {},
   "outputs": [
    {
     "data": {
      "text/plain": [
       "['one', 'two', 'three']"
      ]
     },
     "execution_count": 17,
     "metadata": {},
     "output_type": "execute_result"
    }
   ],
   "source": [
    "mylist = [\"one\" , \"two\" , \"three\" , \"four\" , \"five\" , \"six\" , \"seven\" , \"eight\"]\n",
    "mylist[0:3] # return all item from 0th to 3rd index location excluding the item"
   ]
  },
  {
   "cell_type": "code",
   "execution_count": 18,
   "id": "6104870f",
   "metadata": {},
   "outputs": [
    {
     "data": {
      "text/plain": [
       "['three', 'four', 'five']"
      ]
     },
     "execution_count": 18,
     "metadata": {},
     "output_type": "execute_result"
    }
   ],
   "source": [
    "mylist[2:5]# # List all items from 2nd to 5th index location excluding the item at"
   ]
  },
  {
   "cell_type": "code",
   "execution_count": 19,
   "id": "1aa13ef4",
   "metadata": {},
   "outputs": [
    {
     "data": {
      "text/plain": [
       "['one', 'two', 'three']"
      ]
     },
     "execution_count": 19,
     "metadata": {},
     "output_type": "execute_result"
    }
   ],
   "source": [
    "mylist[:3] # return first three item"
   ]
  },
  {
   "cell_type": "code",
   "execution_count": 20,
   "id": "a80fed50",
   "metadata": {},
   "outputs": [
    {
     "data": {
      "text/plain": [
       "['one', 'two']"
      ]
     },
     "execution_count": 20,
     "metadata": {},
     "output_type": "execute_result"
    }
   ],
   "source": [
    "mylist[:2] ## Return first two items"
   ]
  },
  {
   "cell_type": "code",
   "execution_count": 21,
   "id": "08c616a4",
   "metadata": {},
   "outputs": [
    {
     "data": {
      "text/plain": [
       "['six', 'seven', 'eight']"
      ]
     },
     "execution_count": 21,
     "metadata": {},
     "output_type": "execute_result"
    }
   ],
   "source": [
    "mylist[-3:] # Return last three items"
   ]
  },
  {
   "cell_type": "code",
   "execution_count": 22,
   "id": "f5d2cc5d",
   "metadata": {},
   "outputs": [
    {
     "data": {
      "text/plain": [
       "['seven', 'eight']"
      ]
     },
     "execution_count": 22,
     "metadata": {},
     "output_type": "execute_result"
    }
   ],
   "source": [
    "mylist[-2:] # Return last two items"
   ]
  },
  {
   "cell_type": "code",
   "execution_count": 23,
   "id": "b0d32d0f",
   "metadata": {},
   "outputs": [
    {
     "data": {
      "text/plain": [
       "['one', 'two', 'three', 'four', 'five', 'six', 'seven', 'eight']"
      ]
     },
     "execution_count": 23,
     "metadata": {},
     "output_type": "execute_result"
    }
   ],
   "source": [
    "mylist[:] # return whole list"
   ]
  },
  {
   "cell_type": "markdown",
   "id": "f8e4c224",
   "metadata": {},
   "source": [
    "Add,  remove, & change item"
   ]
  },
  {
   "cell_type": "code",
   "execution_count": 24,
   "id": "4755515a",
   "metadata": {},
   "outputs": [
    {
     "data": {
      "text/plain": [
       "['one', 'two', 'three', 'four', 'five', 'six', 'seven', 'eight']"
      ]
     },
     "execution_count": 24,
     "metadata": {},
     "output_type": "execute_result"
    }
   ],
   "source": [
    "mylist"
   ]
  },
  {
   "cell_type": "code",
   "execution_count": 25,
   "id": "22ac822b",
   "metadata": {},
   "outputs": [
    {
     "data": {
      "text/plain": [
       "['one', 'two', 'three', 'four', 'five', 'six', 'seven', 'eight', 'nine']"
      ]
     },
     "execution_count": 25,
     "metadata": {},
     "output_type": "execute_result"
    }
   ],
   "source": [
    "mylist.append(\"nine\") # add an item to the end of the list\n",
    "mylist"
   ]
  },
  {
   "cell_type": "code",
   "execution_count": 26,
   "id": "e8057cc9",
   "metadata": {},
   "outputs": [
    {
     "data": {
      "text/plain": [
       "['one', 'ten', 'two', 'three', 'four', 'five', 'six', 'seven', 'eight', 'nine']"
      ]
     },
     "execution_count": 26,
     "metadata": {},
     "output_type": "execute_result"
    }
   ],
   "source": [
    "mylist.insert(1,\"ten\") #add item at index location 9\n",
    "mylist"
   ]
  },
  {
   "cell_type": "code",
   "execution_count": 27,
   "id": "650538df",
   "metadata": {},
   "outputs": [
    {
     "data": {
      "text/plain": [
       "['ten', 'two', 'three', 'four', 'five', 'six', 'seven', 'eight', 'nine']"
      ]
     },
     "execution_count": 27,
     "metadata": {},
     "output_type": "execute_result"
    }
   ],
   "source": [
    "mylist.remove(\"one\") #remove item \"one\"\n",
    "mylist"
   ]
  },
  {
   "cell_type": "code",
   "execution_count": 28,
   "id": "f49ea192",
   "metadata": {},
   "outputs": [
    {
     "data": {
      "text/plain": [
       "['ten', 'two', 'three', 'four', 'five', 'six', 'seven', 'eight']"
      ]
     },
     "execution_count": 28,
     "metadata": {},
     "output_type": "execute_result"
    }
   ],
   "source": [
    "mylist.pop() # remove last item of the list\n",
    "mylist"
   ]
  },
  {
   "cell_type": "code",
   "execution_count": 29,
   "id": "0968b80c",
   "metadata": {},
   "outputs": [
    {
     "ename": "IndexError",
     "evalue": "pop index out of range",
     "output_type": "error",
     "traceback": [
      "\u001b[1;31m---------------------------------------------------------------------------\u001b[0m",
      "\u001b[1;31mIndexError\u001b[0m                                Traceback (most recent call last)",
      "Cell \u001b[1;32mIn[29], line 1\u001b[0m\n\u001b[1;32m----> 1\u001b[0m \u001b[43mmylist\u001b[49m\u001b[38;5;241;43m.\u001b[39;49m\u001b[43mpop\u001b[49m\u001b[43m(\u001b[49m\u001b[38;5;241;43m8\u001b[39;49m\u001b[43m)\u001b[49m \u001b[38;5;66;03m# remove item at index location 8\u001b[39;00m\n\u001b[0;32m      2\u001b[0m mylist\n",
      "\u001b[1;31mIndexError\u001b[0m: pop index out of range"
     ]
    }
   ],
   "source": [
    "mylist.pop(8) # remove item at index location 8\n",
    "mylist"
   ]
  },
  {
   "cell_type": "code",
   "execution_count": null,
   "id": "cde6dc35",
   "metadata": {},
   "outputs": [],
   "source": [
    "del mylist[7] #remove item at index location  7\n",
    "mylist"
   ]
  },
  {
   "cell_type": "code",
   "execution_count": 30,
   "id": "38e9f76c",
   "metadata": {},
   "outputs": [
    {
     "data": {
      "text/plain": [
       "[1, 2, 3, 'four', 'five', 'six', 'seven', 'eight']"
      ]
     },
     "execution_count": 30,
     "metadata": {},
     "output_type": "execute_result"
    }
   ],
   "source": [
    "# change value of the string\n",
    "mylist[0] = 1\n",
    "mylist[1] = 2\n",
    "mylist[2] = 3\n",
    "mylist"
   ]
  },
  {
   "cell_type": "code",
   "execution_count": 31,
   "id": "b9679e09",
   "metadata": {},
   "outputs": [
    {
     "data": {
      "text/plain": [
       "[]"
      ]
     },
     "execution_count": 31,
     "metadata": {},
     "output_type": "execute_result"
    }
   ],
   "source": [
    "mylist.clear()\n",
    "mylist"
   ]
  },
  {
   "cell_type": "code",
   "execution_count": 32,
   "id": "442b1391",
   "metadata": {},
   "outputs": [
    {
     "ename": "NameError",
     "evalue": "name 'mylist' is not defined",
     "output_type": "error",
     "traceback": [
      "\u001b[1;31m---------------------------------------------------------------------------\u001b[0m",
      "\u001b[1;31mNameError\u001b[0m                                 Traceback (most recent call last)",
      "Cell \u001b[1;32mIn[32], line 2\u001b[0m\n\u001b[0;32m      1\u001b[0m \u001b[38;5;28;01mdel\u001b[39;00m mylist \u001b[38;5;66;03m#delete the whole list\u001b[39;00m\n\u001b[1;32m----> 2\u001b[0m \u001b[43mmylist\u001b[49m\n",
      "\u001b[1;31mNameError\u001b[0m: name 'mylist' is not defined"
     ]
    }
   ],
   "source": [
    "del mylist #delete the whole list\n",
    "mylist"
   ]
  },
  {
   "cell_type": "markdown",
   "id": "9f7575b2",
   "metadata": {},
   "source": [
    " # copy list"
   ]
  },
  {
   "cell_type": "code",
   "execution_count": 33,
   "id": "90c79a1f",
   "metadata": {},
   "outputs": [
    {
     "data": {
      "text/plain": [
       "['one', 'two', 'three', 'four', 'five', 'six', 'seven', 'eight', 'nine']"
      ]
     },
     "execution_count": 33,
     "metadata": {},
     "output_type": "execute_result"
    }
   ],
   "source": [
    "mylist = [\"one\", \"two\", \"three\" , \"four\" , \"five\" , \"six\" , \"seven\" , \"eight\" , \"nine\"]\n",
    "mylist"
   ]
  },
  {
   "cell_type": "code",
   "execution_count": 34,
   "id": "accfe550",
   "metadata": {},
   "outputs": [],
   "source": [
    "mylist1 = mylist # create a new reference \"mylist1\""
   ]
  },
  {
   "cell_type": "code",
   "execution_count": 35,
   "id": "af9e0c8f",
   "metadata": {},
   "outputs": [
    {
     "data": {
      "text/plain": [
       "(1898491832064, 1898491832064)"
      ]
     },
     "execution_count": 35,
     "metadata": {},
     "output_type": "execute_result"
    }
   ],
   "source": [
    "id(mylist) , id(mylist) # the adress of the both mylist & mylist1 will be the same"
   ]
  },
  {
   "cell_type": "code",
   "execution_count": 36,
   "id": "7cbdff75",
   "metadata": {},
   "outputs": [],
   "source": [
    "mylist2 = mylist.copy()# create a copy of the list"
   ]
  },
  {
   "cell_type": "code",
   "execution_count": 37,
   "id": "5c1ca637",
   "metadata": {},
   "outputs": [
    {
     "data": {
      "text/plain": [
       "1898491497856"
      ]
     },
     "execution_count": 37,
     "metadata": {},
     "output_type": "execute_result"
    }
   ],
   "source": [
    "id(mylist2) # # The address of mylist2 will be different from mylist because mylist"
   ]
  },
  {
   "cell_type": "code",
   "execution_count": 38,
   "id": "8c42e33c",
   "metadata": {},
   "outputs": [],
   "source": [
    "mylist[0] = 1"
   ]
  },
  {
   "cell_type": "code",
   "execution_count": 39,
   "id": "1962598a",
   "metadata": {},
   "outputs": [
    {
     "data": {
      "text/plain": [
       "[1, 'two', 'three', 'four', 'five', 'six', 'seven', 'eight', 'nine']"
      ]
     },
     "execution_count": 39,
     "metadata": {},
     "output_type": "execute_result"
    }
   ],
   "source": [
    "mylist"
   ]
  },
  {
   "cell_type": "code",
   "execution_count": 40,
   "id": "e03bdf48",
   "metadata": {},
   "outputs": [
    {
     "data": {
      "text/plain": [
       "[1, 'two', 'three', 'four', 'five', 'six', 'seven', 'eight', 'nine']"
      ]
     },
     "execution_count": 40,
     "metadata": {},
     "output_type": "execute_result"
    }
   ],
   "source": [
    "mylist1 # mylist1 will be also imoacted as it is pointing to the same list"
   ]
  },
  {
   "cell_type": "code",
   "execution_count": 41,
   "id": "1fa9fd12",
   "metadata": {},
   "outputs": [
    {
     "data": {
      "text/plain": [
       "['one', 'two', 'three', 'four', 'five', 'six', 'seven', 'eight', 'nine']"
      ]
     },
     "execution_count": 41,
     "metadata": {},
     "output_type": "execute_result"
    }
   ],
   "source": [
    "mylist2 # copy of the list wont be impacted due to changes made on the original list"
   ]
  },
  {
   "cell_type": "markdown",
   "id": "5381f77d",
   "metadata": {},
   "source": [
    "# join list"
   ]
  },
  {
   "cell_type": "code",
   "execution_count": 42,
   "id": "14dace2a",
   "metadata": {},
   "outputs": [],
   "source": [
    "list1 = [\"one\", \"two\", \"three\", \"four\"]\n",
    "list2 = [\"five\", \"six\", \"seven\", \"eight\"]"
   ]
  },
  {
   "cell_type": "code",
   "execution_count": 43,
   "id": "6b16c8c4",
   "metadata": {},
   "outputs": [
    {
     "data": {
      "text/plain": [
       "['one', 'two', 'three', 'four', 'five', 'six', 'seven', 'eight']"
      ]
     },
     "execution_count": 43,
     "metadata": {},
     "output_type": "execute_result"
    }
   ],
   "source": [
    "list3 = list1 + list2 #join two list by \"+\" operator\n",
    "list3"
   ]
  },
  {
   "cell_type": "code",
   "execution_count": 44,
   "id": "d3b7e897",
   "metadata": {},
   "outputs": [
    {
     "data": {
      "text/plain": [
       "['one', 'two', 'three', 'four', 'five', 'six', 'seven', 'eight']"
      ]
     },
     "execution_count": 44,
     "metadata": {},
     "output_type": "execute_result"
    }
   ],
   "source": [
    "list1.extend(list2) #append list2 with list1\n",
    "list1"
   ]
  },
  {
   "cell_type": "markdown",
   "id": "5d6e9d6b",
   "metadata": {},
   "source": [
    "# list membership"
   ]
  },
  {
   "cell_type": "code",
   "execution_count": 45,
   "id": "784e50de",
   "metadata": {},
   "outputs": [
    {
     "data": {
      "text/plain": [
       "['one', 'two', 'three', 'four', 'five', 'six', 'seven', 'eight']"
      ]
     },
     "execution_count": 45,
     "metadata": {},
     "output_type": "execute_result"
    }
   ],
   "source": [
    "list1"
   ]
  },
  {
   "cell_type": "code",
   "execution_count": 46,
   "id": "a37b2aed",
   "metadata": {},
   "outputs": [
    {
     "data": {
      "text/plain": [
       "True"
      ]
     },
     "execution_count": 46,
     "metadata": {},
     "output_type": "execute_result"
    }
   ],
   "source": [
    "\"one\" in list1 # check if \"one\" exist in the list"
   ]
  },
  {
   "cell_type": "code",
   "execution_count": 47,
   "id": "a15f5fae",
   "metadata": {},
   "outputs": [
    {
     "data": {
      "text/plain": [
       "False"
      ]
     },
     "execution_count": 47,
     "metadata": {},
     "output_type": "execute_result"
    }
   ],
   "source": [
    "\"ten\" in list1 # check if \"ten\" exist in the list"
   ]
  },
  {
   "cell_type": "code",
   "execution_count": 48,
   "id": "7c684cd1",
   "metadata": {},
   "outputs": [
    {
     "name": "stdout",
     "output_type": "stream",
     "text": [
      "three is present in the list\n"
     ]
    }
   ],
   "source": [
    "if \"three\" in list1: #check if \"three\" exist in the  list\n",
    "    print(\"three is present in the list\")\n",
    "else:\n",
    "    print(\"three is not present in the list\")"
   ]
  },
  {
   "cell_type": "code",
   "execution_count": 49,
   "id": "1201f2f8",
   "metadata": {},
   "outputs": [
    {
     "name": "stdout",
     "output_type": "stream",
     "text": [
      "eleven is not present in list\n"
     ]
    }
   ],
   "source": [
    "if \"eleven\" in list1:# check if eleven exist in the list\n",
    "    print(\"eleven  is present in list\")\n",
    "else:\n",
    "    print(\"eleven is not present in list\")"
   ]
  },
  {
   "cell_type": "markdown",
   "id": "25c67136",
   "metadata": {},
   "source": [
    "# Reverse & sort list"
   ]
  },
  {
   "cell_type": "code",
   "execution_count": 50,
   "id": "6fbda19a",
   "metadata": {},
   "outputs": [
    {
     "data": {
      "text/plain": [
       "['one', 'two', 'three', 'four', 'five', 'six', 'seven', 'eight']"
      ]
     },
     "execution_count": 50,
     "metadata": {},
     "output_type": "execute_result"
    }
   ],
   "source": [
    "list1"
   ]
  },
  {
   "cell_type": "code",
   "execution_count": 51,
   "id": "2cc57867",
   "metadata": {},
   "outputs": [
    {
     "data": {
      "text/plain": [
       "['eight', 'seven', 'six', 'five', 'four', 'three', 'two', 'one']"
      ]
     },
     "execution_count": 51,
     "metadata": {},
     "output_type": "execute_result"
    }
   ],
   "source": [
    "list1.reverse() #reverse the list\n",
    "list1"
   ]
  },
  {
   "cell_type": "code",
   "execution_count": 52,
   "id": "281a0111",
   "metadata": {},
   "outputs": [
    {
     "data": {
      "text/plain": [
       "['one', 'two', 'three', 'four', 'five', 'six', 'seven', 'eight']"
      ]
     },
     "execution_count": 52,
     "metadata": {},
     "output_type": "execute_result"
    }
   ],
   "source": [
    "list1 = list1[::-1] #Reverse the list\n",
    "list1"
   ]
  },
  {
   "cell_type": "code",
   "execution_count": 53,
   "id": "f893ebce",
   "metadata": {},
   "outputs": [
    {
     "data": {
      "text/plain": [
       "[0, 3, 3, 4, 5, 6, 6, 7, 8, 9]"
      ]
     },
     "execution_count": 53,
     "metadata": {},
     "output_type": "execute_result"
    }
   ],
   "source": [
    "mylist3 = [6,3,7,0,6,9,3,4,8,5]\n",
    "mylist3.sort() #sort list in ascending order\n",
    "mylist3"
   ]
  },
  {
   "cell_type": "code",
   "execution_count": 54,
   "id": "e7391bf4",
   "metadata": {},
   "outputs": [
    {
     "data": {
      "text/plain": [
       "[9, 8, 7, 6, 6, 5, 4, 3, 3, 0]"
      ]
     },
     "execution_count": 54,
     "metadata": {},
     "output_type": "execute_result"
    }
   ],
   "source": [
    "mylist3 = [6,3,7,0,6,9,3,4,8,5]\n",
    "mylist3.sort(reverse=True) # sort list in decending order\n",
    "mylist3"
   ]
  },
  {
   "cell_type": "code",
   "execution_count": 55,
   "id": "2f7da48b",
   "metadata": {},
   "outputs": [
    {
     "data": {
      "text/plain": [
       "[11, 21, 33, 65, 88, 98]"
      ]
     },
     "execution_count": 55,
     "metadata": {},
     "output_type": "execute_result"
    }
   ],
   "source": [
    "mylist4 = [88,65,33,21,11,98]\n",
    "sorted(mylist4) # return a new sorted list and doesn't change orignal list"
   ]
  },
  {
   "cell_type": "code",
   "execution_count": 56,
   "id": "86758a93",
   "metadata": {},
   "outputs": [
    {
     "data": {
      "text/plain": [
       "[88, 65, 33, 21, 11, 98]"
      ]
     },
     "execution_count": 56,
     "metadata": {},
     "output_type": "execute_result"
    }
   ],
   "source": [
    "mylist4"
   ]
  },
  {
   "cell_type": "markdown",
   "id": "6b72c64e",
   "metadata": {},
   "source": [
    "# loop through a list"
   ]
  },
  {
   "cell_type": "code",
   "execution_count": 57,
   "id": "33353a05",
   "metadata": {},
   "outputs": [
    {
     "data": {
      "text/plain": [
       "['one', 'two', 'three', 'four', 'five', 'six', 'seven', 'eight']"
      ]
     },
     "execution_count": 57,
     "metadata": {},
     "output_type": "execute_result"
    }
   ],
   "source": [
    "list1"
   ]
  },
  {
   "cell_type": "code",
   "execution_count": 58,
   "id": "44d15e68",
   "metadata": {},
   "outputs": [
    {
     "name": "stdout",
     "output_type": "stream",
     "text": [
      "one\n",
      "two\n",
      "three\n",
      "four\n",
      "five\n",
      "six\n",
      "seven\n",
      "eight\n"
     ]
    }
   ],
   "source": [
    "for i in list1:\n",
    "    print(i)"
   ]
  },
  {
   "cell_type": "code",
   "execution_count": 59,
   "id": "aa8a3882",
   "metadata": {},
   "outputs": [
    {
     "name": "stdout",
     "output_type": "stream",
     "text": [
      "(0, 'one')\n",
      "(1, 'two')\n",
      "(2, 'three')\n",
      "(3, 'four')\n",
      "(4, 'five')\n",
      "(5, 'six')\n",
      "(6, 'seven')\n",
      "(7, 'eight')\n"
     ]
    }
   ],
   "source": [
    "for i in enumerate(list1):\n",
    "    print(i)"
   ]
  },
  {
   "cell_type": "code",
   "execution_count": 60,
   "id": "5a0a21d6",
   "metadata": {},
   "outputs": [],
   "source": [
    "list10 =['one', 'two', 'three', 'four', 'one', 'one', 'two', 'three']\n"
   ]
  },
  {
   "cell_type": "code",
   "execution_count": 61,
   "id": "159afc3d",
   "metadata": {},
   "outputs": [
    {
     "data": {
      "text/plain": [
       "3"
      ]
     },
     "execution_count": 61,
     "metadata": {},
     "output_type": "execute_result"
    }
   ],
   "source": [
    "list10.count(\"one\") # number of time items \"one\" occurred in the list\n"
   ]
  },
  {
   "cell_type": "code",
   "execution_count": 62,
   "id": "6992ab03",
   "metadata": {},
   "outputs": [
    {
     "data": {
      "text/plain": [
       "2"
      ]
     },
     "execution_count": 62,
     "metadata": {},
     "output_type": "execute_result"
    }
   ],
   "source": [
    "list10.count(\"two\") # number of time item \"one occurred in the list\""
   ]
  },
  {
   "cell_type": "code",
   "execution_count": 63,
   "id": "1cdbed19",
   "metadata": {},
   "outputs": [
    {
     "data": {
      "text/plain": [
       "1"
      ]
     },
     "execution_count": 63,
     "metadata": {},
     "output_type": "execute_result"
    }
   ],
   "source": [
    "list10.count(\"four\") # occurence of item \"four\" in the list"
   ]
  },
  {
   "cell_type": "markdown",
   "id": "2ec61674",
   "metadata": {},
   "source": [
    "# All / Any\n",
    ":-The all() method returns:\n",
    "\n",
    ":-True - If all elements in a list are true\n",
    "\n",
    ":-False - If any element in a list is false\n",
    "\n",
    ":-The any() function returns True if any element in the list is True. If not, any() returns False"
   ]
  },
  {
   "cell_type": "code",
   "execution_count": 64,
   "id": "ef90ab71",
   "metadata": {},
   "outputs": [],
   "source": [
    "l1 = [1,2,3,4,0]\n"
   ]
  },
  {
   "cell_type": "code",
   "execution_count": 65,
   "id": "70041d5d",
   "metadata": {},
   "outputs": [
    {
     "data": {
      "text/plain": [
       "False"
      ]
     },
     "execution_count": 65,
     "metadata": {},
     "output_type": "execute_result"
    }
   ],
   "source": [
    "all(l1) # will return false as one value is false (value 0)"
   ]
  },
  {
   "cell_type": "code",
   "execution_count": 66,
   "id": "9d8bd815",
   "metadata": {},
   "outputs": [
    {
     "data": {
      "text/plain": [
       "True"
      ]
     },
     "execution_count": 66,
     "metadata": {},
     "output_type": "execute_result"
    }
   ],
   "source": [
    "any(l1) # will return true as we have item in the list with true value "
   ]
  },
  {
   "cell_type": "code",
   "execution_count": 67,
   "id": "c54bfb1c",
   "metadata": {},
   "outputs": [],
   "source": [
    "l2 = [1,2,3,4,True,False]"
   ]
  },
  {
   "cell_type": "code",
   "execution_count": 68,
   "id": "03fcfc3e",
   "metadata": {},
   "outputs": [
    {
     "data": {
      "text/plain": [
       "False"
      ]
     },
     "execution_count": 68,
     "metadata": {},
     "output_type": "execute_result"
    }
   ],
   "source": [
    "all(l2) # Returns false as one value is false\n",
    "\n"
   ]
  },
  {
   "cell_type": "code",
   "execution_count": 69,
   "id": "6e929b78",
   "metadata": {},
   "outputs": [
    {
     "data": {
      "text/plain": [
       "True"
      ]
     },
     "execution_count": 69,
     "metadata": {},
     "output_type": "execute_result"
    }
   ],
   "source": [
    "any(l2)  # Will Return True as we have items in the list with True value\n"
   ]
  },
  {
   "cell_type": "code",
   "execution_count": 70,
   "id": "76d21e61",
   "metadata": {},
   "outputs": [
    {
     "data": {
      "text/plain": [
       "False"
      ]
     },
     "execution_count": 70,
     "metadata": {},
     "output_type": "execute_result"
    }
   ],
   "source": [
    "all(l2) ## Will return True as all items in the list are True"
   ]
  },
  {
   "cell_type": "markdown",
   "id": "c177a6c4",
   "metadata": {},
   "source": [
    "# Tuple Creation"
   ]
  },
  {
   "cell_type": "code",
   "execution_count": 71,
   "id": "e06ef04e",
   "metadata": {},
   "outputs": [],
   "source": [
    "tup1 = ()\n"
   ]
  },
  {
   "cell_type": "code",
   "execution_count": 72,
   "id": "2d640cfa",
   "metadata": {},
   "outputs": [],
   "source": [
    "tup2 = (10,20,60) # tuple of integer number"
   ]
  },
  {
   "cell_type": "code",
   "execution_count": 73,
   "id": "4bab847c",
   "metadata": {},
   "outputs": [],
   "source": [
    "tup3 = (10,77,30.66,60,89) # tuple of float number "
   ]
  },
  {
   "cell_type": "code",
   "execution_count": 74,
   "id": "719658dd",
   "metadata": {},
   "outputs": [],
   "source": [
    "tup4 = (\"one\",\"two\", \"three\") #tuple of strings"
   ]
  },
  {
   "cell_type": "code",
   "execution_count": 75,
   "id": "456e6f7f",
   "metadata": {},
   "outputs": [],
   "source": [
    "tup5 = (\"amir\",77,(30,100),(150,90)) # nasted tuple"
   ]
  },
  {
   "cell_type": "code",
   "execution_count": 76,
   "id": "3000d583",
   "metadata": {},
   "outputs": [],
   "source": [
    "tup6 = (100,\"Amir\",17.765) # tuple of mixed data type"
   ]
  },
  {
   "cell_type": "code",
   "execution_count": 77,
   "id": "a43056ad",
   "metadata": {},
   "outputs": [],
   "source": [
    "tup7 = (\"Amir\",24,[50,100],[150,90],{\"Amirul\",\"Zunaid\"} , (99,22,33))"
   ]
  },
  {
   "cell_type": "code",
   "execution_count": 78,
   "id": "3729161d",
   "metadata": {},
   "outputs": [
    {
     "data": {
      "text/plain": [
       "6"
      ]
     },
     "execution_count": 78,
     "metadata": {},
     "output_type": "execute_result"
    }
   ],
   "source": [
    "len(tup7) #length of list"
   ]
  },
  {
   "cell_type": "markdown",
   "id": "9822ab2c",
   "metadata": {},
   "source": [
    "# tuple indexing"
   ]
  },
  {
   "cell_type": "code",
   "execution_count": 79,
   "id": "10813863",
   "metadata": {},
   "outputs": [
    {
     "data": {
      "text/plain": [
       "10"
      ]
     },
     "execution_count": 79,
     "metadata": {},
     "output_type": "execute_result"
    }
   ],
   "source": [
    "tup2[0] # retreive first element of the tuple"
   ]
  },
  {
   "cell_type": "code",
   "execution_count": 80,
   "id": "082db5ef",
   "metadata": {},
   "outputs": [
    {
     "data": {
      "text/plain": [
       "'one'"
      ]
     },
     "execution_count": 80,
     "metadata": {},
     "output_type": "execute_result"
    }
   ],
   "source": [
    "tup4[0] # retreterive first element of the tuple"
   ]
  },
  {
   "cell_type": "code",
   "execution_count": 81,
   "id": "0c631a49",
   "metadata": {},
   "outputs": [
    {
     "data": {
      "text/plain": [
       "'o'"
      ]
     },
     "execution_count": 81,
     "metadata": {},
     "output_type": "execute_result"
    }
   ],
   "source": [
    "tup4[0][0] # nested first element of the tuple"
   ]
  },
  {
   "cell_type": "code",
   "execution_count": 82,
   "id": "c44677b4",
   "metadata": {},
   "outputs": [
    {
     "data": {
      "text/plain": [
       "'three'"
      ]
     },
     "execution_count": 82,
     "metadata": {},
     "output_type": "execute_result"
    }
   ],
   "source": [
    "tup4[-1] # nested indexing - access the first character of the first tuple element"
   ]
  },
  {
   "cell_type": "code",
   "execution_count": 83,
   "id": "ca425695",
   "metadata": {},
   "outputs": [
    {
     "data": {
      "text/plain": [
       "'three'"
      ]
     },
     "execution_count": 83,
     "metadata": {},
     "output_type": "execute_result"
    }
   ],
   "source": [
    "tup4[-1] # last item of the tuple"
   ]
  },
  {
   "cell_type": "code",
   "execution_count": 84,
   "id": "181c156c",
   "metadata": {},
   "outputs": [
    {
     "ename": "NameError",
     "evalue": "name 'tup' is not defined",
     "output_type": "error",
     "traceback": [
      "\u001b[1;31m---------------------------------------------------------------------------\u001b[0m",
      "\u001b[1;31mNameError\u001b[0m                                 Traceback (most recent call last)",
      "Cell \u001b[1;32mIn[84], line 1\u001b[0m\n\u001b[1;32m----> 1\u001b[0m \u001b[43mtup\u001b[49m[\u001b[38;5;241m-\u001b[39m\u001b[38;5;241m1\u001b[39m]\n",
      "\u001b[1;31mNameError\u001b[0m: name 'tup' is not defined"
     ]
    }
   ],
   "source": [
    "tup[-1] # last item of the tuple"
   ]
  },
  {
   "cell_type": "markdown",
   "id": "08962361",
   "metadata": {},
   "source": [
    "# Tuple slicing"
   ]
  },
  {
   "cell_type": "code",
   "execution_count": 85,
   "id": "482afa11",
   "metadata": {},
   "outputs": [],
   "source": [
    "mytuple = ('one' , 'two' , 'three' , 'four' , 'five' , 'six' , 'seven' , 'eight')\n"
   ]
  },
  {
   "cell_type": "code",
   "execution_count": 86,
   "id": "ceeba6b0",
   "metadata": {},
   "outputs": [
    {
     "data": {
      "text/plain": [
       "('one', 'two', 'three')"
      ]
     },
     "execution_count": 86,
     "metadata": {},
     "output_type": "execute_result"
    }
   ],
   "source": [
    "mytuple[0:3] # Return all items from 0th to 3rd index location excluding the item"
   ]
  },
  {
   "cell_type": "code",
   "execution_count": 87,
   "id": "1411b26a",
   "metadata": {},
   "outputs": [
    {
     "data": {
      "text/plain": [
       "('three', 'four', 'five')"
      ]
     },
     "execution_count": 87,
     "metadata": {},
     "output_type": "execute_result"
    }
   ],
   "source": [
    "mytuple[2:5] ## List all items from 2nd to 5th index location excluding the item "
   ]
  },
  {
   "cell_type": "code",
   "execution_count": 88,
   "id": "4afd9d65",
   "metadata": {},
   "outputs": [
    {
     "data": {
      "text/plain": [
       "('one', 'two', 'three')"
      ]
     },
     "execution_count": 88,
     "metadata": {},
     "output_type": "execute_result"
    }
   ],
   "source": [
    "mytuple[:3]# return first three item"
   ]
  },
  {
   "cell_type": "code",
   "execution_count": 89,
   "id": "f62dcd04",
   "metadata": {},
   "outputs": [
    {
     "data": {
      "text/plain": [
       "('one', 'two')"
      ]
     },
     "execution_count": 89,
     "metadata": {},
     "output_type": "execute_result"
    }
   ],
   "source": [
    "mytuple[:2] # return first two item"
   ]
  },
  {
   "cell_type": "code",
   "execution_count": 90,
   "id": "ea669f11",
   "metadata": {},
   "outputs": [
    {
     "data": {
      "text/plain": [
       "('six', 'seven', 'eight')"
      ]
     },
     "execution_count": 90,
     "metadata": {},
     "output_type": "execute_result"
    }
   ],
   "source": [
    "mytuple[-3:] # return last three item "
   ]
  },
  {
   "cell_type": "code",
   "execution_count": 91,
   "id": "4e2dfd0e",
   "metadata": {},
   "outputs": [
    {
     "data": {
      "text/plain": [
       "('seven', 'eight')"
      ]
     },
     "execution_count": 91,
     "metadata": {},
     "output_type": "execute_result"
    }
   ],
   "source": [
    "mytuple[-2:] # return last two item"
   ]
  },
  {
   "cell_type": "code",
   "execution_count": 92,
   "id": "60d34616",
   "metadata": {},
   "outputs": [
    {
     "data": {
      "text/plain": [
       "'eight'"
      ]
     },
     "execution_count": 92,
     "metadata": {},
     "output_type": "execute_result"
    }
   ],
   "source": [
    "mytuple[-1] # return whole tuple"
   ]
  },
  {
   "cell_type": "markdown",
   "id": "c8dc9c2e",
   "metadata": {},
   "source": [
    "Remove & change item"
   ]
  },
  {
   "cell_type": "code",
   "execution_count": 93,
   "id": "42721626",
   "metadata": {},
   "outputs": [
    {
     "data": {
      "text/plain": [
       "('one', 'two', 'three', 'four', 'five', 'six', 'seven', 'eight')"
      ]
     },
     "execution_count": 93,
     "metadata": {},
     "output_type": "execute_result"
    }
   ],
   "source": [
    "mytuple"
   ]
  },
  {
   "cell_type": "code",
   "execution_count": 94,
   "id": "1b1c4894",
   "metadata": {},
   "outputs": [
    {
     "ename": "TypeError",
     "evalue": "'tuple' object doesn't support item deletion",
     "output_type": "error",
     "traceback": [
      "\u001b[1;31m---------------------------------------------------------------------------\u001b[0m",
      "\u001b[1;31mTypeError\u001b[0m                                 Traceback (most recent call last)",
      "Cell \u001b[1;32mIn[94], line 1\u001b[0m\n\u001b[1;32m----> 1\u001b[0m \u001b[38;5;28;01mdel\u001b[39;00m mytuple[\u001b[38;5;241m0\u001b[39m]\n",
      "\u001b[1;31mTypeError\u001b[0m: 'tuple' object doesn't support item deletion"
     ]
    }
   ],
   "source": [
    "del mytuple[0] # tuple are immutable which means we can't delete tuple item"
   ]
  },
  {
   "cell_type": "code",
   "execution_count": 95,
   "id": "33e3f6a4",
   "metadata": {},
   "outputs": [
    {
     "ename": "TypeError",
     "evalue": "'tuple' object does not support item assignment",
     "output_type": "error",
     "traceback": [
      "\u001b[1;31m---------------------------------------------------------------------------\u001b[0m",
      "\u001b[1;31mTypeError\u001b[0m                                 Traceback (most recent call last)",
      "Cell \u001b[1;32mIn[95], line 1\u001b[0m\n\u001b[1;32m----> 1\u001b[0m mytuple[\u001b[38;5;241m0\u001b[39m] \u001b[38;5;241m=\u001b[39m \u001b[38;5;241m1\u001b[39m\n",
      "\u001b[1;31mTypeError\u001b[0m: 'tuple' object does not support item assignment"
     ]
    }
   ],
   "source": [
    "mytuple[0] = 1 # Tuples are immutable which means we can't CHANGE tuple item"
   ]
  },
  {
   "cell_type": "code",
   "execution_count": 96,
   "id": "327a953d",
   "metadata": {},
   "outputs": [],
   "source": [
    "del mytuple # delete entire tuple object is possible"
   ]
  },
  {
   "cell_type": "markdown",
   "id": "5e329945",
   "metadata": {},
   "source": [
    "# loop through a tuple"
   ]
  },
  {
   "cell_type": "code",
   "execution_count": 97,
   "id": "90337bbd",
   "metadata": {},
   "outputs": [],
   "source": [
    "mytuple = ('one' , 'two' , 'three' , 'four' , 'five' , 'six' , 'seven' , 'eight')\n"
   ]
  },
  {
   "cell_type": "code",
   "execution_count": 98,
   "id": "1fecb593",
   "metadata": {},
   "outputs": [
    {
     "data": {
      "text/plain": [
       "('one', 'two', 'three', 'four', 'five', 'six', 'seven', 'eight')"
      ]
     },
     "execution_count": 98,
     "metadata": {},
     "output_type": "execute_result"
    }
   ],
   "source": [
    "mytuple"
   ]
  },
  {
   "cell_type": "code",
   "execution_count": 99,
   "id": "b833c518",
   "metadata": {},
   "outputs": [
    {
     "name": "stdout",
     "output_type": "stream",
     "text": [
      "one\n",
      "two\n",
      "three\n",
      "four\n",
      "five\n",
      "six\n",
      "seven\n",
      "eight\n"
     ]
    }
   ],
   "source": [
    "for i in mytuple:\n",
    "    print(i)"
   ]
  },
  {
   "cell_type": "code",
   "execution_count": 100,
   "id": "6ed2f510",
   "metadata": {},
   "outputs": [
    {
     "name": "stdout",
     "output_type": "stream",
     "text": [
      "(0, 'one')\n",
      "(1, 'two')\n",
      "(2, 'three')\n",
      "(3, 'four')\n",
      "(4, 'five')\n",
      "(5, 'six')\n",
      "(6, 'seven')\n",
      "(7, 'eight')\n"
     ]
    }
   ],
   "source": [
    "for i in enumerate(mytuple):\n",
    "    print(i)"
   ]
  },
  {
   "cell_type": "markdown",
   "id": "8d3d1297",
   "metadata": {},
   "source": [
    "# count"
   ]
  },
  {
   "cell_type": "code",
   "execution_count": 101,
   "id": "77e1243a",
   "metadata": {},
   "outputs": [],
   "source": [
    "mytuple1 = ('one', 'two', 'three', 'four', 'one', 'one', 'two', 'three')"
   ]
  },
  {
   "cell_type": "code",
   "execution_count": 102,
   "id": "aab8f082",
   "metadata": {},
   "outputs": [
    {
     "ename": "SyntaxError",
     "evalue": "unmatched ')' (1369939590.py, line 1)",
     "output_type": "error",
     "traceback": [
      "\u001b[1;36m  Cell \u001b[1;32mIn[102], line 1\u001b[1;36m\u001b[0m\n\u001b[1;33m    mytuple1.count(\"one\")) # Number of times item \"one\" occurred in the tuple.\u001b[0m\n\u001b[1;37m                         ^\u001b[0m\n\u001b[1;31mSyntaxError\u001b[0m\u001b[1;31m:\u001b[0m unmatched ')'\n"
     ]
    }
   ],
   "source": [
    "mytuple1.count(\"one\")) # Number of times item \"one\" occurred in the tuple."
   ]
  },
  {
   "cell_type": "code",
   "execution_count": 103,
   "id": "ee900e80",
   "metadata": {},
   "outputs": [
    {
     "data": {
      "text/plain": [
       "2"
      ]
     },
     "execution_count": 103,
     "metadata": {},
     "output_type": "execute_result"
    }
   ],
   "source": [
    "mytuple1.count(\"two\") # Occurence of item 'two' in the tuple"
   ]
  },
  {
   "cell_type": "code",
   "execution_count": 104,
   "id": "3eff567b",
   "metadata": {},
   "outputs": [
    {
     "data": {
      "text/plain": [
       "2"
      ]
     },
     "execution_count": 104,
     "metadata": {},
     "output_type": "execute_result"
    }
   ],
   "source": [
    "mytuple1.count(\"three\") #Occurence of item 'four' in the tuple"
   ]
  },
  {
   "cell_type": "markdown",
   "id": "cc611af8",
   "metadata": {},
   "source": [
    "# tuple membership"
   ]
  },
  {
   "cell_type": "code",
   "execution_count": 105,
   "id": "9fdbeb29",
   "metadata": {},
   "outputs": [
    {
     "data": {
      "text/plain": [
       "('one', 'two', 'three', 'four', 'five', 'six', 'seven', 'eight')"
      ]
     },
     "execution_count": 105,
     "metadata": {},
     "output_type": "execute_result"
    }
   ],
   "source": [
    "mytuple"
   ]
  },
  {
   "cell_type": "code",
   "execution_count": 106,
   "id": "ed3c3977",
   "metadata": {},
   "outputs": [
    {
     "data": {
      "text/plain": [
       "True"
      ]
     },
     "execution_count": 106,
     "metadata": {},
     "output_type": "execute_result"
    }
   ],
   "source": [
    "\"one\" in mytuple # check if \"one \" exist in the list"
   ]
  },
  {
   "cell_type": "code",
   "execution_count": 107,
   "id": "30cc3247",
   "metadata": {},
   "outputs": [
    {
     "data": {
      "text/plain": [
       "False"
      ]
     },
     "execution_count": 107,
     "metadata": {},
     "output_type": "execute_result"
    }
   ],
   "source": [
    "\"ten\" in mytuple"
   ]
  },
  {
   "cell_type": "code",
   "execution_count": 108,
   "id": "fc5e46c7",
   "metadata": {},
   "outputs": [
    {
     "name": "stdout",
     "output_type": "stream",
     "text": [
      "Three is present in the tuple\n"
     ]
    }
   ],
   "source": [
    "if \"three\" in mytuple:  # Check if 'eleven' exist in the list\n",
    "    print(\"Three is present in the tuple\")\n",
    "else:\n",
    "    print(\"three is not present in the tuple\")"
   ]
  },
  {
   "cell_type": "code",
   "execution_count": 109,
   "id": "883cb973",
   "metadata": {},
   "outputs": [
    {
     "name": "stdout",
     "output_type": "stream",
     "text": [
      "eleven is not present in the tuple\n"
     ]
    }
   ],
   "source": [
    "if \"eleven\" in mytuple:  # Check if 'eleven' exist in the list\n",
    "    print(\"eleven is present in the tuple\")\n",
    "else:\n",
    "    print(\"eleven is not present in the tuple\")"
   ]
  },
  {
   "cell_type": "markdown",
   "id": "56228aad",
   "metadata": {},
   "source": [
    "# index position"
   ]
  },
  {
   "cell_type": "code",
   "execution_count": 110,
   "id": "87f031ea",
   "metadata": {},
   "outputs": [
    {
     "data": {
      "text/plain": [
       "('one', 'two', 'three', 'four', 'five', 'six', 'seven', 'eight')"
      ]
     },
     "execution_count": 110,
     "metadata": {},
     "output_type": "execute_result"
    }
   ],
   "source": [
    "mytuple"
   ]
  },
  {
   "cell_type": "code",
   "execution_count": 111,
   "id": "b2d848f8",
   "metadata": {},
   "outputs": [
    {
     "data": {
      "text/plain": [
       "0"
      ]
     },
     "execution_count": 111,
     "metadata": {},
     "output_type": "execute_result"
    }
   ],
   "source": [
    "mytuple.index(\"one\")# Index of first element equal to 'one'"
   ]
  },
  {
   "cell_type": "code",
   "execution_count": 112,
   "id": "c1f67fc8",
   "metadata": {},
   "outputs": [
    {
     "data": {
      "text/plain": [
       "4"
      ]
     },
     "execution_count": 112,
     "metadata": {},
     "output_type": "execute_result"
    }
   ],
   "source": [
    "mytuple.index(\"five\") # Index of first element equal to 'five'"
   ]
  },
  {
   "cell_type": "code",
   "execution_count": 113,
   "id": "4b77f0e9",
   "metadata": {},
   "outputs": [
    {
     "data": {
      "text/plain": [
       "('one', 'two', 'three', 'four', 'one', 'one', 'two', 'three')"
      ]
     },
     "execution_count": 113,
     "metadata": {},
     "output_type": "execute_result"
    }
   ],
   "source": [
    "mytuple1"
   ]
  },
  {
   "cell_type": "code",
   "execution_count": 114,
   "id": "f9791413",
   "metadata": {},
   "outputs": [
    {
     "data": {
      "text/plain": [
       "0"
      ]
     },
     "execution_count": 114,
     "metadata": {},
     "output_type": "execute_result"
    }
   ],
   "source": [
    "mytuple1.index(\"one\") # Index of first element equal to 'one'"
   ]
  },
  {
   "cell_type": "markdown",
   "id": "47346a33",
   "metadata": {},
   "source": [
    "# sorting"
   ]
  },
  {
   "cell_type": "code",
   "execution_count": 115,
   "id": "3af1b907",
   "metadata": {},
   "outputs": [],
   "source": [
    "mytuple2 = (43,67,99,12,6,90,67)"
   ]
  },
  {
   "cell_type": "code",
   "execution_count": 116,
   "id": "49f6cf42",
   "metadata": {},
   "outputs": [
    {
     "data": {
      "text/plain": [
       "[6, 12, 43, 67, 67, 90, 99]"
      ]
     },
     "execution_count": 116,
     "metadata": {},
     "output_type": "execute_result"
    }
   ],
   "source": [
    "sorted(mytuple2)# Sort in descending order"
   ]
  },
  {
   "cell_type": "code",
   "execution_count": 117,
   "id": "e5d49966",
   "metadata": {},
   "outputs": [
    {
     "data": {
      "text/plain": [
       "[99, 90, 67, 67, 43, 12, 6]"
      ]
     },
     "execution_count": 117,
     "metadata": {},
     "output_type": "execute_result"
    }
   ],
   "source": [
    "sorted(mytuple2, reverse=True)# Sort in descending order"
   ]
  },
  {
   "cell_type": "code",
   "execution_count": 118,
   "id": "56299686",
   "metadata": {},
   "outputs": [],
   "source": [
    "# loop  through a set"
   ]
  },
  {
   "cell_type": "code",
   "execution_count": 121,
   "id": "1bc01e18",
   "metadata": {},
   "outputs": [
    {
     "data": {
      "text/plain": [
       "{'eight', 'five', 'four', 'one', 'seven', 'six', 'three', 'two'}"
      ]
     },
     "execution_count": 121,
     "metadata": {},
     "output_type": "execute_result"
    }
   ],
   "source": [
    "myset = {'one', 'two', 'three', 'four', 'five', 'six', 'seven', 'eight'}\n",
    "myset"
   ]
  },
  {
   "cell_type": "code",
   "execution_count": 122,
   "id": "6e6f33f9",
   "metadata": {},
   "outputs": [
    {
     "name": "stdout",
     "output_type": "stream",
     "text": [
      "three\n",
      "seven\n",
      "six\n",
      "four\n",
      "two\n",
      "five\n",
      "one\n",
      "eight\n"
     ]
    }
   ],
   "source": [
    "for i in myset:\n",
    "    print(i)"
   ]
  },
  {
   "cell_type": "code",
   "execution_count": 123,
   "id": "4f8a6c86",
   "metadata": {},
   "outputs": [
    {
     "name": "stdout",
     "output_type": "stream",
     "text": [
      "(0, 'three')\n",
      "(1, 'seven')\n",
      "(2, 'six')\n",
      "(3, 'four')\n",
      "(4, 'two')\n",
      "(5, 'five')\n",
      "(6, 'one')\n",
      "(7, 'eight')\n"
     ]
    }
   ],
   "source": [
    "for i in enumerate(myset):\n",
    "    print(i)\n",
    "    "
   ]
  },
  {
   "cell_type": "code",
   "execution_count": 124,
   "id": "7d232168",
   "metadata": {},
   "outputs": [],
   "source": [
    "# set membership"
   ]
  },
  {
   "cell_type": "code",
   "execution_count": 125,
   "id": "5d7d5af1",
   "metadata": {},
   "outputs": [
    {
     "data": {
      "text/plain": [
       "{'eight', 'five', 'four', 'one', 'seven', 'six', 'three', 'two'}"
      ]
     },
     "execution_count": 125,
     "metadata": {},
     "output_type": "execute_result"
    }
   ],
   "source": [
    "myset"
   ]
  },
  {
   "cell_type": "code",
   "execution_count": 126,
   "id": "f02164af",
   "metadata": {},
   "outputs": [
    {
     "data": {
      "text/plain": [
       "True"
      ]
     },
     "execution_count": 126,
     "metadata": {},
     "output_type": "execute_result"
    }
   ],
   "source": [
    "\"one\" in myset # check if one exit in the set"
   ]
  },
  {
   "cell_type": "code",
   "execution_count": 127,
   "id": "767e9f9a",
   "metadata": {},
   "outputs": [
    {
     "data": {
      "text/plain": [
       "False"
      ]
     },
     "execution_count": 127,
     "metadata": {},
     "output_type": "execute_result"
    }
   ],
   "source": [
    "\"ten\" in myset # check if ten exit in the set"
   ]
  },
  {
   "cell_type": "code",
   "execution_count": 128,
   "id": "c408351a",
   "metadata": {},
   "outputs": [
    {
     "name": "stdout",
     "output_type": "stream",
     "text": [
      "three is present in myset\n"
     ]
    }
   ],
   "source": [
    "if \"three\" in myset:\n",
    "    print(\"three is present in myset\")\n",
    "else:\n",
    "    print(\"three is not present in myset\")"
   ]
  },
  {
   "cell_type": "code",
   "execution_count": 129,
   "id": "1ed08e63",
   "metadata": {},
   "outputs": [
    {
     "name": "stdout",
     "output_type": "stream",
     "text": [
      "ten is not present in myset\n"
     ]
    }
   ],
   "source": [
    "if \"ten\" in myset:\n",
    "    print(\"ten is present in myset\")\n",
    "else:\n",
    "    print(\"ten is not present in myset\")"
   ]
  },
  {
   "cell_type": "code",
   "execution_count": 130,
   "id": "1db2b0f5",
   "metadata": {},
   "outputs": [],
   "source": [
    "#add & remove items"
   ]
  },
  {
   "cell_type": "code",
   "execution_count": 131,
   "id": "98222715",
   "metadata": {},
   "outputs": [
    {
     "data": {
      "text/plain": [
       "{'eight', 'five', 'four', 'one', 'seven', 'six', 'three', 'two'}"
      ]
     },
     "execution_count": 131,
     "metadata": {},
     "output_type": "execute_result"
    }
   ],
   "source": [
    "myset"
   ]
  },
  {
   "cell_type": "code",
   "execution_count": 132,
   "id": "01b10632",
   "metadata": {},
   "outputs": [
    {
     "data": {
      "text/plain": [
       "{'eight', 'five', 'four', 'nine', 'one', 'seven', 'six', 'three', 'two'}"
      ]
     },
     "execution_count": 132,
     "metadata": {},
     "output_type": "execute_result"
    }
   ],
   "source": [
    "myset.add(\"nine\") # Add item to a set using add() method\n",
    "myset"
   ]
  },
  {
   "cell_type": "code",
   "execution_count": 133,
   "id": "77f59282",
   "metadata": {},
   "outputs": [
    {
     "data": {
      "text/plain": [
       "{'eight',\n",
       " 'eleven',\n",
       " 'five',\n",
       " 'four',\n",
       " 'nine',\n",
       " 'one',\n",
       " 'seven',\n",
       " 'six',\n",
       " 'ten',\n",
       " 'three',\n",
       " 'twelve',\n",
       " 'two'}"
      ]
     },
     "execution_count": 133,
     "metadata": {},
     "output_type": "execute_result"
    }
   ],
   "source": [
    "myset.update([\"ten\", \"eleven\", \"twelve\"]) # Add multiple item to a set using \n",
    "myset"
   ]
  },
  {
   "cell_type": "code",
   "execution_count": 135,
   "id": "749e0c8f",
   "metadata": {},
   "outputs": [
    {
     "data": {
      "text/plain": [
       "{'eight',\n",
       " 'eleven',\n",
       " 'five',\n",
       " 'four',\n",
       " 'one',\n",
       " 'seven',\n",
       " 'six',\n",
       " 'ten',\n",
       " 'three',\n",
       " 'twelve',\n",
       " 'two'}"
      ]
     },
     "execution_count": 135,
     "metadata": {},
     "output_type": "execute_result"
    }
   ],
   "source": [
    "myset.remove(\"nine\")#remove item in a set using remove() method\n",
    "myset"
   ]
  },
  {
   "cell_type": "code",
   "execution_count": 137,
   "id": "96d7a689",
   "metadata": {},
   "outputs": [
    {
     "data": {
      "text/plain": [
       "{'eight',\n",
       " 'eleven',\n",
       " 'five',\n",
       " 'four',\n",
       " 'one',\n",
       " 'seven',\n",
       " 'six',\n",
       " 'three',\n",
       " 'twelve',\n",
       " 'two'}"
      ]
     },
     "execution_count": 137,
     "metadata": {},
     "output_type": "execute_result"
    }
   ],
   "source": [
    "myset.discard(\"ten\")#remove item from a set using discard() method\n",
    "myset"
   ]
  },
  {
   "cell_type": "code",
   "execution_count": 138,
   "id": "d6f67d97",
   "metadata": {},
   "outputs": [
    {
     "data": {
      "text/plain": [
       "set()"
      ]
     },
     "execution_count": 138,
     "metadata": {},
     "output_type": "execute_result"
    }
   ],
   "source": [
    "myset.clear() #Delete all items in a set\n",
    "myset"
   ]
  },
  {
   "cell_type": "code",
   "execution_count": 140,
   "id": "9adbee20",
   "metadata": {},
   "outputs": [
    {
     "ename": "NameError",
     "evalue": "name 'myset' is not defined",
     "output_type": "error",
     "traceback": [
      "\u001b[1;31m---------------------------------------------------------------------------\u001b[0m",
      "\u001b[1;31mNameError\u001b[0m                                 Traceback (most recent call last)",
      "Cell \u001b[1;32mIn[140], line 1\u001b[0m\n\u001b[1;32m----> 1\u001b[0m \u001b[38;5;28;01mdel\u001b[39;00m myset\n\u001b[0;32m      2\u001b[0m myset\n",
      "\u001b[1;31mNameError\u001b[0m: name 'myset' is not defined"
     ]
    }
   ],
   "source": [
    "del myset\n",
    "myset"
   ]
  },
  {
   "cell_type": "code",
   "execution_count": 142,
   "id": "297dfc6a",
   "metadata": {},
   "outputs": [],
   "source": [
    " #copy set"
   ]
  },
  {
   "cell_type": "code",
   "execution_count": 143,
   "id": "64b30c4d",
   "metadata": {},
   "outputs": [
    {
     "data": {
      "text/plain": [
       "{'eight', 'five', 'four', 'one', 'seven', 'six', 'three', 'two'}"
      ]
     },
     "execution_count": 143,
     "metadata": {},
     "output_type": "execute_result"
    }
   ],
   "source": [
    "myset = {'one', 'two', 'three', 'four', 'five', 'six', 'seven', 'eight'}\n",
    "myset"
   ]
  },
  {
   "cell_type": "code",
   "execution_count": 144,
   "id": "184fca12",
   "metadata": {},
   "outputs": [],
   "source": [
    "myset1 = myset # create a referance my set\n"
   ]
  },
  {
   "cell_type": "code",
   "execution_count": 145,
   "id": "54c936e3",
   "metadata": {},
   "outputs": [
    {
     "data": {
      "text/plain": [
       "{'eight', 'five', 'four', 'one', 'seven', 'six', 'three', 'two'}"
      ]
     },
     "execution_count": 145,
     "metadata": {},
     "output_type": "execute_result"
    }
   ],
   "source": [
    "myset"
   ]
  },
  {
   "cell_type": "code",
   "execution_count": 146,
   "id": "a9ec9620",
   "metadata": {},
   "outputs": [
    {
     "data": {
      "text/plain": [
       "(1898501855200, 1898501855200)"
      ]
     },
     "execution_count": 146,
     "metadata": {},
     "output_type": "execute_result"
    }
   ],
   "source": [
    "id(myset1) , id(myset) # the address of the bothb set will be same "
   ]
  },
  {
   "cell_type": "code",
   "execution_count": 147,
   "id": "c343512d",
   "metadata": {},
   "outputs": [
    {
     "data": {
      "text/plain": [
       "{'eight', 'five', 'four', 'one', 'seven', 'six', 'three', 'two'}"
      ]
     },
     "execution_count": 147,
     "metadata": {},
     "output_type": "execute_result"
    }
   ],
   "source": [
    "my_set = myset.copy() # create a copy of the list \n",
    "my_set"
   ]
  },
  {
   "cell_type": "code",
   "execution_count": 148,
   "id": "badea84b",
   "metadata": {},
   "outputs": [
    {
     "data": {
      "text/plain": [
       "1898501860576"
      ]
     },
     "execution_count": 148,
     "metadata": {},
     "output_type": "execute_result"
    }
   ],
   "source": [
    "id(my_set)"
   ]
  },
  {
   "cell_type": "code",
   "execution_count": 149,
   "id": "0abea38a",
   "metadata": {},
   "outputs": [],
   "source": [
    "my_set.add(\"nine\")"
   ]
  },
  {
   "cell_type": "code",
   "execution_count": 150,
   "id": "6799f873",
   "metadata": {},
   "outputs": [
    {
     "data": {
      "text/plain": [
       "{'eight', 'five', 'four', 'nine', 'one', 'seven', 'six', 'three', 'two'}"
      ]
     },
     "execution_count": 150,
     "metadata": {},
     "output_type": "execute_result"
    }
   ],
   "source": [
    "my_set"
   ]
  },
  {
   "cell_type": "code",
   "execution_count": 151,
   "id": "e562c22a",
   "metadata": {},
   "outputs": [
    {
     "data": {
      "text/plain": [
       "{'eight', 'five', 'four', 'one', 'seven', 'six', 'three', 'two'}"
      ]
     },
     "execution_count": 151,
     "metadata": {},
     "output_type": "execute_result"
    }
   ],
   "source": [
    "myset1# myset1 will be also impacted as it is pointing to the same Set"
   ]
  },
  {
   "cell_type": "code",
   "execution_count": 152,
   "id": "2aba092f",
   "metadata": {},
   "outputs": [
    {
     "data": {
      "text/plain": [
       "{'eight', 'five', 'four', 'nine', 'one', 'seven', 'six', 'three', 'two'}"
      ]
     },
     "execution_count": 152,
     "metadata": {},
     "output_type": "execute_result"
    }
   ],
   "source": [
    "my_set # Copy of the set won't be impacted due to changes made on the original Set\n"
   ]
  },
  {
   "cell_type": "code",
   "execution_count": 153,
   "id": "12f8c983",
   "metadata": {},
   "outputs": [],
   "source": [
    "#  set operation "
   ]
  },
  {
   "cell_type": "code",
   "execution_count": 155,
   "id": "17dcb735",
   "metadata": {},
   "outputs": [],
   "source": [
    "#union "
   ]
  },
  {
   "cell_type": "code",
   "execution_count": 159,
   "id": "ff2dc16a",
   "metadata": {},
   "outputs": [],
   "source": [
    "a = {1,2,3,4}\n",
    "b = {4,5,6,7}\n",
    "c = {7,8,9,10}"
   ]
  },
  {
   "cell_type": "code",
   "execution_count": 160,
   "id": "783ee60f",
   "metadata": {},
   "outputs": [
    {
     "data": {
      "text/plain": [
       "{1, 2, 3, 4, 5, 6, 7}"
      ]
     },
     "execution_count": 160,
     "metadata": {},
     "output_type": "execute_result"
    }
   ],
   "source": [
    "a|b"
   ]
  },
  {
   "cell_type": "code",
   "execution_count": 161,
   "id": "4b42eeb9",
   "metadata": {},
   "outputs": [
    {
     "data": {
      "text/plain": [
       "{1, 2, 3, 4, 5, 6, 7}"
      ]
     },
     "execution_count": 161,
     "metadata": {},
     "output_type": "execute_result"
    }
   ],
   "source": [
    "a.union(b)# union of a and b\n"
   ]
  },
  {
   "cell_type": "code",
   "execution_count": 162,
   "id": "0b87a148",
   "metadata": {},
   "outputs": [
    {
     "data": {
      "text/plain": [
       "{1, 2, 3, 4, 5, 6, 7, 8, 9, 10}"
      ]
     },
     "execution_count": 162,
     "metadata": {},
     "output_type": "execute_result"
    }
   ],
   "source": [
    "a.union(b,c)"
   ]
  },
  {
   "cell_type": "code",
   "execution_count": 163,
   "id": "9accf8ef",
   "metadata": {},
   "outputs": [
    {
     "data": {
      "text/plain": [
       "{1, 2, 3, 4, 5, 6, 7, 8, 9, 10}"
      ]
     },
     "execution_count": 163,
     "metadata": {},
     "output_type": "execute_result"
    }
   ],
   "source": [
    "\"\"\"\n",
    "Updates the set calling the update() method with union of A , B & C. \n",
    "For below example Set A will be updated with union of A,B & C.\n",
    "\"\"\"\n",
    "a.update(b,c)\n",
    "a\n"
   ]
  },
  {
   "cell_type": "markdown",
   "id": "819d2a17",
   "metadata": {},
   "source": [
    "# intersection"
   ]
  },
  {
   "cell_type": "code",
   "execution_count": 172,
   "id": "8b1d3afa",
   "metadata": {},
   "outputs": [],
   "source": [
    "a = {1,2,3,4,5}\n",
    "b = {4,5,6,7,8}"
   ]
  },
  {
   "cell_type": "code",
   "execution_count": 173,
   "id": "76eb32f1",
   "metadata": {},
   "outputs": [
    {
     "data": {
      "text/plain": [
       "{4, 5}"
      ]
     },
     "execution_count": 173,
     "metadata": {},
     "output_type": "execute_result"
    }
   ],
   "source": [
    "a & b"
   ]
  },
  {
   "cell_type": "code",
   "execution_count": 174,
   "id": "e6ee59a3",
   "metadata": {},
   "outputs": [
    {
     "ename": "SyntaxError",
     "evalue": "invalid syntax (4168783453.py, line 1)",
     "output_type": "error",
     "traceback": [
      "\u001b[1;36m  Cell \u001b[1;32mIn[174], line 1\u001b[1;36m\u001b[0m\n\u001b[1;33m    a.intersection(b) intersection of a and b\u001b[0m\n\u001b[1;37m                      ^\u001b[0m\n\u001b[1;31mSyntaxError\u001b[0m\u001b[1;31m:\u001b[0m invalid syntax\n"
     ]
    }
   ],
   "source": [
    "a.intersection(b) intersection of a and b"
   ]
  },
  {
   "cell_type": "code",
   "execution_count": 175,
   "id": "93c096a9",
   "metadata": {},
   "outputs": [
    {
     "data": {
      "text/plain": [
       "{4, 5}"
      ]
     },
     "execution_count": 175,
     "metadata": {},
     "output_type": "execute_result"
    }
   ],
   "source": [
    "\"\"\"\n",
    "Updates the set calling the intersection_update() method with the intersection of\n",
    "For below example Set A will be updated with the intersection of A & B.\n",
    "\"\"\"\n",
    "a.intersection_update(b)\n",
    "a"
   ]
  },
  {
   "cell_type": "markdown",
   "id": "f2b262fd",
   "metadata": {},
   "source": [
    "# Difference"
   ]
  },
  {
   "cell_type": "code",
   "execution_count": 177,
   "id": "d67c88e9",
   "metadata": {},
   "outputs": [],
   "source": [
    "a = {1,2,3,4,5}\n",
    "b = {4,5,6,7,8}"
   ]
  },
  {
   "cell_type": "code",
   "execution_count": 178,
   "id": "b1219e60",
   "metadata": {},
   "outputs": [
    {
     "data": {
      "text/plain": [
       "{1, 2, 3}"
      ]
     },
     "execution_count": 178,
     "metadata": {},
     "output_type": "execute_result"
    }
   ],
   "source": [
    "a - b # set of elements that are only in A but not in B\n"
   ]
  },
  {
   "cell_type": "code",
   "execution_count": 179,
   "id": "5b70175c",
   "metadata": {},
   "outputs": [
    {
     "data": {
      "text/plain": [
       "{1, 2, 3}"
      ]
     },
     "execution_count": 179,
     "metadata": {},
     "output_type": "execute_result"
    }
   ],
   "source": [
    "a.difference(b) # Difference of sets\n"
   ]
  },
  {
   "cell_type": "code",
   "execution_count": 180,
   "id": "908f20ca",
   "metadata": {},
   "outputs": [
    {
     "data": {
      "text/plain": [
       "{6, 7, 8}"
      ]
     },
     "execution_count": 180,
     "metadata": {},
     "output_type": "execute_result"
    }
   ],
   "source": [
    "b- a"
   ]
  },
  {
   "cell_type": "code",
   "execution_count": 181,
   "id": "2109d721",
   "metadata": {},
   "outputs": [
    {
     "data": {
      "text/plain": [
       "{6, 7, 8}"
      ]
     },
     "execution_count": 181,
     "metadata": {},
     "output_type": "execute_result"
    }
   ],
   "source": [
    "b.difference(a)"
   ]
  },
  {
   "cell_type": "code",
   "execution_count": 183,
   "id": "9e82267d",
   "metadata": {},
   "outputs": [
    {
     "data": {
      "text/plain": [
       "{6, 7, 8}"
      ]
     },
     "execution_count": 183,
     "metadata": {},
     "output_type": "execute_result"
    }
   ],
   "source": [
    "\"\"\"\n",
    "Updates the set calling the difference_update() method with the difference of set\n",
    "For below example Set B will be updated with the difference of B & A.\n",
    "\"\"\"\n",
    "b.difference_update(a)\n",
    "b"
   ]
  },
  {
   "cell_type": "markdown",
   "id": "469ab954",
   "metadata": {},
   "source": [
    "# symmetric difference"
   ]
  },
  {
   "cell_type": "code",
   "execution_count": 186,
   "id": "3ecc1588",
   "metadata": {},
   "outputs": [],
   "source": [
    "a = {1,2,3,4,5}\n",
    "b = {5,6,7,8,9}"
   ]
  },
  {
   "cell_type": "code",
   "execution_count": 187,
   "id": "f2a87c4d",
   "metadata": {},
   "outputs": [
    {
     "data": {
      "text/plain": [
       "{1, 2, 3, 4, 6, 7, 8, 9}"
      ]
     },
     "execution_count": 187,
     "metadata": {},
     "output_type": "execute_result"
    }
   ],
   "source": [
    "a ^ b # Symmetric difference (Set of elements in A and B but not in both. \"EXCLUD"
   ]
  },
  {
   "cell_type": "code",
   "execution_count": 188,
   "id": "9a03b729",
   "metadata": {},
   "outputs": [
    {
     "data": {
      "text/plain": [
       "{1, 2, 3, 4, 6, 7, 8, 9}"
      ]
     },
     "execution_count": 188,
     "metadata": {},
     "output_type": "execute_result"
    }
   ],
   "source": [
    "a.symmetric_difference(b) # Symmetric difference of set"
   ]
  },
  {
   "cell_type": "code",
   "execution_count": 189,
   "id": "4841ff06",
   "metadata": {},
   "outputs": [
    {
     "data": {
      "text/plain": [
       "{1, 2, 3, 4, 6, 7, 8, 9}"
      ]
     },
     "execution_count": 189,
     "metadata": {},
     "output_type": "execute_result"
    }
   ],
   "source": [
    "\"\"\"\n",
    "Updates the set calling the symmetric_difference_update() method with the symmetr\n",
    "For below example Set A will be updated with the symmetric difference of A & B.\n",
    "\"\"\"\n",
    "a.symmetric_difference_update(b)\n",
    "a"
   ]
  },
  {
   "cell_type": "markdown",
   "id": "8efbfd94",
   "metadata": {},
   "source": [
    "# subset, superset & disjoint"
   ]
  },
  {
   "cell_type": "code",
   "execution_count": 191,
   "id": "aa9e8dbf",
   "metadata": {},
   "outputs": [],
   "source": [
    "a = {1,2,3,4,5,6,7,8,9}\n",
    "b = {3,4,5,6,7,8}\n",
    "c = {10,20,30,40}"
   ]
  },
  {
   "cell_type": "code",
   "execution_count": 192,
   "id": "93368dab",
   "metadata": {},
   "outputs": [
    {
     "data": {
      "text/plain": [
       "True"
      ]
     },
     "execution_count": 192,
     "metadata": {},
     "output_type": "execute_result"
    }
   ],
   "source": [
    "b.issubset(a)) # Set B is said to be the subset of set A if all elements of B are \n"
   ]
  },
  {
   "cell_type": "code",
   "execution_count": 193,
   "id": "652a2725",
   "metadata": {},
   "outputs": [
    {
     "data": {
      "text/plain": [
       "False"
      ]
     },
     "execution_count": 193,
     "metadata": {},
     "output_type": "execute_result"
    }
   ],
   "source": [
    "a.issubset(b)# Set A is said to be the superset of set B if all elements of B "
   ]
  },
  {
   "cell_type": "code",
   "execution_count": 194,
   "id": "113fb747",
   "metadata": {},
   "outputs": [
    {
     "data": {
      "text/plain": [
       "False"
      ]
     },
     "execution_count": 194,
     "metadata": {},
     "output_type": "execute_result"
    }
   ],
   "source": [
    "c.issubset(a) # Two sets are said to be disjoint sets if they have no common element"
   ]
  },
  {
   "cell_type": "code",
   "execution_count": 195,
   "id": "d2eaa46a",
   "metadata": {},
   "outputs": [
    {
     "data": {
      "text/plain": [
       "True"
      ]
     },
     "execution_count": 195,
     "metadata": {},
     "output_type": "execute_result"
    }
   ],
   "source": [
    "c.isdisjoint(a)# Two sets are said to be disjoint sets if they have no common element"
   ]
  },
  {
   "cell_type": "code",
   "execution_count": 196,
   "id": "b3f1a902",
   "metadata": {},
   "outputs": [
    {
     "data": {
      "text/plain": [
       "False"
      ]
     },
     "execution_count": 196,
     "metadata": {},
     "output_type": "execute_result"
    }
   ],
   "source": [
    "b.isdisjoint(a)"
   ]
  },
  {
   "cell_type": "markdown",
   "id": "de98e687",
   "metadata": {},
   "source": [
    "# other builtin function"
   ]
  },
  {
   "cell_type": "code",
   "execution_count": 197,
   "id": "2a7a1de3",
   "metadata": {},
   "outputs": [
    {
     "data": {
      "text/plain": [
       "{1, 2, 3, 4, 5, 6, 7, 8, 9}"
      ]
     },
     "execution_count": 197,
     "metadata": {},
     "output_type": "execute_result"
    }
   ],
   "source": [
    "a "
   ]
  },
  {
   "cell_type": "code",
   "execution_count": 198,
   "id": "11da75cc",
   "metadata": {},
   "outputs": [
    {
     "data": {
      "text/plain": [
       "45"
      ]
     },
     "execution_count": 198,
     "metadata": {},
     "output_type": "execute_result"
    }
   ],
   "source": [
    "sum(a)"
   ]
  },
  {
   "cell_type": "code",
   "execution_count": 199,
   "id": "08d269c7",
   "metadata": {},
   "outputs": [
    {
     "data": {
      "text/plain": [
       "9"
      ]
     },
     "execution_count": 199,
     "metadata": {},
     "output_type": "execute_result"
    }
   ],
   "source": [
    "max(a)"
   ]
  },
  {
   "cell_type": "code",
   "execution_count": 200,
   "id": "32ad64ca",
   "metadata": {},
   "outputs": [
    {
     "data": {
      "text/plain": [
       "1"
      ]
     },
     "execution_count": 200,
     "metadata": {},
     "output_type": "execute_result"
    }
   ],
   "source": [
    "min(a)"
   ]
  },
  {
   "cell_type": "code",
   "execution_count": 201,
   "id": "147d7486",
   "metadata": {},
   "outputs": [
    {
     "data": {
      "text/plain": [
       "9"
      ]
     },
     "execution_count": 201,
     "metadata": {},
     "output_type": "execute_result"
    }
   ],
   "source": [
    "len(a)"
   ]
  },
  {
   "cell_type": "code",
   "execution_count": 202,
   "id": "0eae993b",
   "metadata": {},
   "outputs": [
    {
     "data": {
      "text/plain": [
       "[(0, 1), (1, 2), (2, 3), (3, 4), (4, 5), (5, 6), (6, 7), (7, 8), (8, 9)]"
      ]
     },
     "execution_count": 202,
     "metadata": {},
     "output_type": "execute_result"
    }
   ],
   "source": [
    "list(enumerate(a))"
   ]
  },
  {
   "cell_type": "code",
   "execution_count": 203,
   "id": "33df130e",
   "metadata": {},
   "outputs": [
    {
     "data": {
      "text/plain": [
       "[9, 8, 7, 6, 5, 4, 3, 2, 1]"
      ]
     },
     "execution_count": 203,
     "metadata": {},
     "output_type": "execute_result"
    }
   ],
   "source": [
    "d= sorted(a,reverse=True)\n",
    "d"
   ]
  },
  {
   "cell_type": "markdown",
   "id": "c6d55500",
   "metadata": {},
   "source": [
    "sorted(d)"
   ]
  },
  {
   "cell_type": "markdown",
   "id": "402db778",
   "metadata": {},
   "source": [
    "# Dictionary"
   ]
  },
  {
   "cell_type": "markdown",
   "id": "0de049ad",
   "metadata": {},
   "source": [
    ":-Dictionary is a mutable data type in Python.\n",
    "\n",
    ":-A python dictionary is a collection of key and value pairs separated by a colon (:) & enclosed\n",
    "in curly braces {}.\n",
    "    \n",
    ":-Keys must be unique in a dictionary, duplicate values are allowed"
   ]
  },
  {
   "cell_type": "markdown",
   "id": "b4de2faf",
   "metadata": {},
   "source": [
    "# create Dictionary"
   ]
  },
  {
   "cell_type": "code",
   "execution_count": 207,
   "id": "dde75f65",
   "metadata": {},
   "outputs": [
    {
     "data": {
      "text/plain": [
       "{}"
      ]
     },
     "execution_count": 207,
     "metadata": {},
     "output_type": "execute_result"
    }
   ],
   "source": [
    "mydict = dict() # empty dictionary\n",
    "mydict"
   ]
  },
  {
   "cell_type": "code",
   "execution_count": 208,
   "id": "c9a396c9",
   "metadata": {},
   "outputs": [
    {
     "data": {
      "text/plain": [
       "{}"
      ]
     },
     "execution_count": 208,
     "metadata": {},
     "output_type": "execute_result"
    }
   ],
   "source": [
    "mydict = {} # empty dictionary\n",
    "mydict"
   ]
  },
  {
   "cell_type": "code",
   "execution_count": 209,
   "id": "72b0570e",
   "metadata": {},
   "outputs": [
    {
     "data": {
      "text/plain": [
       "{1: 'one', 2: 'two', 3: 'three'}"
      ]
     },
     "execution_count": 209,
     "metadata": {},
     "output_type": "execute_result"
    }
   ],
   "source": [
    "mydict = {1:'one' , 2:'two' , 3:'three'} # dictionary with integer keys\n",
    "mydict\n"
   ]
  },
  {
   "cell_type": "code",
   "execution_count": 210,
   "id": "e9a3db82",
   "metadata": {},
   "outputs": [
    {
     "data": {
      "text/plain": [
       "{1: 'one', 2: 'two', 3: 'three'}"
      ]
     },
     "execution_count": 210,
     "metadata": {},
     "output_type": "execute_result"
    }
   ],
   "source": [
    "mydict = dict({1:\"one\" , 2:\"two\" , 3:\"three\"})# Create dictionary using dict()\n",
    "mydict"
   ]
  },
  {
   "cell_type": "code",
   "execution_count": 211,
   "id": "91394f65",
   "metadata": {},
   "outputs": [
    {
     "data": {
      "text/plain": [
       "{'a': 'one', 'b': 'two', 3: 'three'}"
      ]
     },
     "execution_count": 211,
     "metadata": {},
     "output_type": "execute_result"
    }
   ],
   "source": [
    "mydict = {\"a\":\"one\",\"b\":\"two\",3:\"three\"}# dictionary with mixed key\n",
    "mydict"
   ]
  },
  {
   "cell_type": "code",
   "execution_count": 212,
   "id": "f513e62f",
   "metadata": {},
   "outputs": [
    {
     "data": {
      "text/plain": [
       "{1: 'one', 'A': 'two', 3: 'three'}"
      ]
     },
     "execution_count": 212,
     "metadata": {},
     "output_type": "execute_result"
    }
   ],
   "source": [
    "mydict = {1:'one' , 'A':'two' , 3:'three'} # dictionary with mixed keys\n",
    "mydict"
   ]
  },
  {
   "cell_type": "code",
   "execution_count": 213,
   "id": "8cdaab15",
   "metadata": {},
   "outputs": [
    {
     "data": {
      "text/plain": [
       "dict_keys([1, 'A', 3])"
      ]
     },
     "execution_count": 213,
     "metadata": {},
     "output_type": "execute_result"
    }
   ],
   "source": [
    "mydict.keys()# Return Dictionary Keys using keys() method"
   ]
  },
  {
   "cell_type": "code",
   "execution_count": 214,
   "id": "63e9578c",
   "metadata": {},
   "outputs": [
    {
     "data": {
      "text/plain": [
       "dict_values(['one', 'two', 'three'])"
      ]
     },
     "execution_count": 214,
     "metadata": {},
     "output_type": "execute_result"
    }
   ],
   "source": [
    "mydict.values()# Return Dictionary Values using values() method"
   ]
  },
  {
   "cell_type": "code",
   "execution_count": 215,
   "id": "cedbeda4",
   "metadata": {},
   "outputs": [
    {
     "data": {
      "text/plain": [
       "dict_items([(1, 'one'), ('A', 'two'), (3, 'three')])"
      ]
     },
     "execution_count": 215,
     "metadata": {},
     "output_type": "execute_result"
    }
   ],
   "source": [
    "mydict.items()# Access each key-value pair within a dictionary "
   ]
  },
  {
   "cell_type": "code",
   "execution_count": 216,
   "id": "55b47da9",
   "metadata": {},
   "outputs": [
    {
     "data": {
      "text/plain": [
       "{1: 'one', 2: 'two', 'a': ['amir', 'amirul', 'raj']}"
      ]
     },
     "execution_count": 216,
     "metadata": {},
     "output_type": "execute_result"
    }
   ],
   "source": [
    "mydict = {1:\"one\" , 2:\"two\" , \"a\":[\"amir\",\"amirul\",\"raj\"]} \n",
    "mydict"
   ]
  },
  {
   "cell_type": "code",
   "execution_count": 221,
   "id": "c06c96db",
   "metadata": {},
   "outputs": [
    {
     "data": {
      "text/plain": [
       "{'a': None, 'd': None, 'c': None, 'b': None}"
      ]
     },
     "execution_count": 221,
     "metadata": {},
     "output_type": "execute_result"
    }
   ],
   "source": [
    "keys = {\"a\" , \"b\" , \"c\" , \"d\"}\n",
    "value = 10 # Create a dictionary from a sequence of keys\n",
    "\n",
    "mydict3 = dict.fromkeys(keys)\n",
    "mydict3"
   ]
  },
  {
   "cell_type": "code",
   "execution_count": 222,
   "id": "e2687684",
   "metadata": {},
   "outputs": [
    {
     "data": {
      "text/plain": [
       "{'a': 10, 'd': 10, 'c': 10, 'b': 10}"
      ]
     },
     "execution_count": 222,
     "metadata": {},
     "output_type": "execute_result"
    }
   ],
   "source": [
    "keys = {\"a\" , \"b\" , \"c\" , \"d\"}\n",
    "value = 10 # Create a dictionary from a sequence of \n",
    "mydict3 = dict.fromkeys(keys , value)\n",
    "mydict3"
   ]
  },
  {
   "cell_type": "code",
   "execution_count": 224,
   "id": "ecbc8320",
   "metadata": {},
   "outputs": [
    {
     "data": {
      "text/plain": [
       "{'a': 10, 'd': 10, 'c': 10, 'b': 10}"
      ]
     },
     "execution_count": 224,
     "metadata": {},
     "output_type": "execute_result"
    }
   ],
   "source": [
    "mydict3"
   ]
  },
  {
   "cell_type": "code",
   "execution_count": 225,
   "id": "4d60f6b0",
   "metadata": {},
   "outputs": [
    {
     "ename": "AttributeError",
     "evalue": "'int' object has no attribute 'append'",
     "output_type": "error",
     "traceback": [
      "\u001b[1;31m---------------------------------------------------------------------------\u001b[0m",
      "\u001b[1;31mAttributeError\u001b[0m                            Traceback (most recent call last)",
      "Cell \u001b[1;32mIn[225], line 1\u001b[0m\n\u001b[1;32m----> 1\u001b[0m \u001b[43mvalue\u001b[49m\u001b[38;5;241;43m.\u001b[39;49m\u001b[43mappend\u001b[49m(\u001b[38;5;241m40\u001b[39m)\n\u001b[0;32m      2\u001b[0m mydict3\n",
      "\u001b[1;31mAttributeError\u001b[0m: 'int' object has no attribute 'append'"
     ]
    }
   ],
   "source": [
    "value.append(40)\n",
    "mydict3"
   ]
  },
  {
   "cell_type": "markdown",
   "id": "71634764",
   "metadata": {},
   "source": [
    "# accessing items"
   ]
  },
  {
   "cell_type": "code",
   "execution_count": 226,
   "id": "5bb23276",
   "metadata": {},
   "outputs": [
    {
     "data": {
      "text/plain": [
       "{1: 'one', 2: 'two', 3: 'three', 4: 'four'}"
      ]
     },
     "execution_count": 226,
     "metadata": {},
     "output_type": "execute_result"
    }
   ],
   "source": [
    "mydict = {1:\"one\" , 2:\"two\" , 3:\"three\" , 4:\"four\"}\n",
    "mydict"
   ]
  },
  {
   "cell_type": "code",
   "execution_count": 227,
   "id": "bfcd72f9",
   "metadata": {},
   "outputs": [
    {
     "data": {
      "text/plain": [
       "'one'"
      ]
     },
     "execution_count": 227,
     "metadata": {},
     "output_type": "execute_result"
    }
   ],
   "source": [
    "mydict[1] # access item using key"
   ]
  },
  {
   "cell_type": "code",
   "execution_count": 228,
   "id": "3e6aed21",
   "metadata": {},
   "outputs": [
    {
     "data": {
      "text/plain": [
       "'one'"
      ]
     },
     "execution_count": 228,
     "metadata": {},
     "output_type": "execute_result"
    }
   ],
   "source": [
    "mydict.get(1)"
   ]
  },
  {
   "cell_type": "code",
   "execution_count": 230,
   "id": "762f9ef9",
   "metadata": {},
   "outputs": [
    {
     "data": {
      "text/plain": [
       "{'name': 'asif', 'id': 74123, 'dob': 1991, 'job': 'analyst'}"
      ]
     },
     "execution_count": 230,
     "metadata": {},
     "output_type": "execute_result"
    }
   ],
   "source": [
    "mydict1 = {\"name\":\"asif\", \"id\":74123 , \"dob\":1991 , \"job\" :\"analyst\"}\n",
    "mydict1"
   ]
  },
  {
   "cell_type": "code",
   "execution_count": 231,
   "id": "79e9a707",
   "metadata": {},
   "outputs": [
    {
     "data": {
      "text/plain": [
       "{'name': 'asif', 'id': 1234, 'dob': 1991, 'address': 'Amirul'}"
      ]
     },
     "execution_count": 231,
     "metadata": {},
     "output_type": "execute_result"
    }
   ],
   "source": [
    "mydict1 = {\"name\":\"asif\" ,\"id\":1234 , \"dob\":1991, \"address\":\"Amirul\"}\n",
    "mydict1"
   ]
  },
  {
   "cell_type": "code",
   "execution_count": 232,
   "id": "d3a8fe81",
   "metadata": {},
   "outputs": [
    {
     "data": {
      "text/plain": [
       "{'name': 'asif', 'id': 1234, 'dob': 1992, 'address': 'delhi'}"
      ]
     },
     "execution_count": 232,
     "metadata": {},
     "output_type": "execute_result"
    }
   ],
   "source": [
    "mydict1[\"dob\"] = 1992 # changing Dictionary items\n",
    "mydict1[\"address\"] = \"delhi\"\n",
    "mydict1"
   ]
  },
  {
   "cell_type": "code",
   "execution_count": 233,
   "id": "5df5a58a",
   "metadata": {},
   "outputs": [
    {
     "data": {
      "text/plain": [
       "{'name': 'asif', 'id': 1234, 'dob': 1995, 'address': 'delhi'}"
      ]
     },
     "execution_count": 233,
     "metadata": {},
     "output_type": "execute_result"
    }
   ],
   "source": [
    "dict1 = {\"dob\":1995}\n",
    "mydict1.update(dict1)\n",
    "mydict1"
   ]
  },
  {
   "cell_type": "code",
   "execution_count": 234,
   "id": "92aa0c1d",
   "metadata": {},
   "outputs": [],
   "source": [
    "mydict1[\"job\"] = \"Analyst\" ## # Adding items in the dictionary"
   ]
  },
  {
   "cell_type": "code",
   "execution_count": 235,
   "id": "d7e35ec7",
   "metadata": {},
   "outputs": [
    {
     "data": {
      "text/plain": [
       "{'name': 'asif', 'id': 1234, 'dob': 1995, 'address': 'delhi', 'job': 'Analyst'}"
      ]
     },
     "execution_count": 235,
     "metadata": {},
     "output_type": "execute_result"
    }
   ],
   "source": [
    "mydict1"
   ]
  },
  {
   "cell_type": "code",
   "execution_count": 236,
   "id": "cf6ec638",
   "metadata": {},
   "outputs": [
    {
     "data": {
      "text/plain": [
       "{'name': 'asif', 'id': 1234, 'dob': 1995, 'address': 'delhi'}"
      ]
     },
     "execution_count": 236,
     "metadata": {},
     "output_type": "execute_result"
    }
   ],
   "source": [
    "mydict1.pop(\"job\")# Removing items in the dictionary using Pop method\n",
    "mydict1"
   ]
  },
  {
   "cell_type": "code",
   "execution_count": 237,
   "id": "541e21c5",
   "metadata": {},
   "outputs": [
    {
     "data": {
      "text/plain": [
       "('address', 'delhi')"
      ]
     },
     "execution_count": 237,
     "metadata": {},
     "output_type": "execute_result"
    }
   ],
   "source": [
    "mydict1.popitem()# A random item is removed"
   ]
  },
  {
   "cell_type": "code",
   "execution_count": 238,
   "id": "351dc9ec",
   "metadata": {},
   "outputs": [
    {
     "data": {
      "text/plain": [
       "{'name': 'asif', 'id': 1234, 'dob': 1995}"
      ]
     },
     "execution_count": 238,
     "metadata": {},
     "output_type": "execute_result"
    }
   ],
   "source": [
    "mydict1"
   ]
  },
  {
   "cell_type": "code",
   "execution_count": 239,
   "id": "662d3a00",
   "metadata": {},
   "outputs": [
    {
     "ename": "KeyError",
     "evalue": "'id'",
     "output_type": "error",
     "traceback": [
      "\u001b[1;31m---------------------------------------------------------------------------\u001b[0m",
      "\u001b[1;31mKeyError\u001b[0m                                  Traceback (most recent call last)",
      "Cell \u001b[1;32mIn[239], line 1\u001b[0m\n\u001b[1;32m----> 1\u001b[0m \u001b[38;5;28;01mdel\u001b[39;00m[mydict[\u001b[38;5;124m\"\u001b[39m\u001b[38;5;124mid\u001b[39m\u001b[38;5;124m\"\u001b[39m]]\u001b[38;5;66;03m# Removing item using del method\u001b[39;00m\n\u001b[0;32m      2\u001b[0m mydict1\n",
      "\u001b[1;31mKeyError\u001b[0m: 'id'"
     ]
    }
   ],
   "source": [
    "del[mydict[\"id\"]]# Removing item using del method\n",
    "mydict1"
   ]
  },
  {
   "cell_type": "code",
   "execution_count": 240,
   "id": "3f663b5d",
   "metadata": {},
   "outputs": [
    {
     "data": {
      "text/plain": [
       "{'Name': 'Asif', 'ID': 12345, 'DOB': 1991, 'Address': 'Hilsinki'}"
      ]
     },
     "execution_count": 240,
     "metadata": {},
     "output_type": "execute_result"
    }
   ],
   "source": [
    "mydict = {'Name':'Asif' , 'ID': 12345 , 'DOB': 1991 , 'Address' : 'Hilsinki'}\n",
    "mydict"
   ]
  },
  {
   "cell_type": "markdown",
   "id": "1e92ea13",
   "metadata": {},
   "source": [
    "# copy Dictionary"
   ]
  },
  {
   "cell_type": "code",
   "execution_count": 241,
   "id": "334697fb",
   "metadata": {},
   "outputs": [],
   "source": [
    "mydict1 = mydict# Create a new reference \"mydict1\" \n"
   ]
  },
  {
   "cell_type": "code",
   "execution_count": 242,
   "id": "328dcebf",
   "metadata": {},
   "outputs": [
    {
     "data": {
      "text/plain": [
       "(1898497919168, 1898497919168)"
      ]
     },
     "execution_count": 242,
     "metadata": {},
     "output_type": "execute_result"
    }
   ],
   "source": [
    "id(mydict) , id(mydict1) # The address of both mydict & mydict1 will be the same \n"
   ]
  },
  {
   "cell_type": "code",
   "execution_count": 243,
   "id": "700a73d1",
   "metadata": {},
   "outputs": [],
   "source": [
    "mydict2 = mydict.copy() # create a copy of dictionary"
   ]
  },
  {
   "cell_type": "code",
   "execution_count": 244,
   "id": "8fa2511a",
   "metadata": {},
   "outputs": [
    {
     "data": {
      "text/plain": [
       "(1898498101376, 1898497919168)"
      ]
     },
     "execution_count": 244,
     "metadata": {},
     "output_type": "execute_result"
    }
   ],
   "source": [
    "id(mydict2) , id(mydict)# The address of mydict2 will be different from mydict because mydict"
   ]
  },
  {
   "cell_type": "code",
   "execution_count": 245,
   "id": "8021dbe3",
   "metadata": {},
   "outputs": [
    {
     "data": {
      "text/plain": [
       "{'Name': 'Asif', 'ID': 12345, 'DOB': 1991, 'Address': 'Hilsinki'}"
      ]
     },
     "execution_count": 245,
     "metadata": {},
     "output_type": "execute_result"
    }
   ],
   "source": [
    "mydict"
   ]
  },
  {
   "cell_type": "code",
   "execution_count": 246,
   "id": "96e348f8",
   "metadata": {},
   "outputs": [
    {
     "data": {
      "text/plain": [
       "{'Name': 'Asif', 'ID': 12345, 'DOB': 1991, 'Address': 'Hilsinki'}"
      ]
     },
     "execution_count": 246,
     "metadata": {},
     "output_type": "execute_result"
    }
   ],
   "source": [
    "mydict1 #mydict1 will be also impacted as it is pointing to the same dictionary"
   ]
  },
  {
   "cell_type": "code",
   "execution_count": 248,
   "id": "b4c3eaf8",
   "metadata": {},
   "outputs": [
    {
     "data": {
      "text/plain": [
       "{'Name': 'Asif', 'ID': 12345, 'DOB': 1991, 'Address': 'Hilsinki'}"
      ]
     },
     "execution_count": 248,
     "metadata": {},
     "output_type": "execute_result"
    }
   ],
   "source": [
    " mydict2 #Copy of list won't be impacted due to the changes made in the original"
   ]
  },
  {
   "cell_type": "markdown",
   "id": "c40dd470",
   "metadata": {},
   "source": [
    "# loop through a dictionary"
   ]
  },
  {
   "cell_type": "code",
   "execution_count": 250,
   "id": "db9398d5",
   "metadata": {},
   "outputs": [
    {
     "data": {
      "text/plain": [
       "{'Name': 'Asif', 'ID': 12345, 'DOB': 1991, 'Address': 'Hilsinki'}"
      ]
     },
     "execution_count": 250,
     "metadata": {},
     "output_type": "execute_result"
    }
   ],
   "source": [
    "mydict1 = {'Name':'Asif' , 'ID': 12345 , 'DOB': 1991 , 'Address' : 'Hilsinki'}\n",
    "mydict1"
   ]
  },
  {
   "cell_type": "code",
   "execution_count": 251,
   "id": "eda00731",
   "metadata": {},
   "outputs": [
    {
     "name": "stdout",
     "output_type": "stream",
     "text": [
      "Name\n",
      "ID\n",
      "DOB\n",
      "Address\n"
     ]
    }
   ],
   "source": [
    "for i in mydict:\n",
    "    print(i)"
   ]
  },
  {
   "cell_type": "code",
   "execution_count": 254,
   "id": "a7208cd7",
   "metadata": {},
   "outputs": [
    {
     "name": "stdout",
     "output_type": "stream",
     "text": [
      "Name : Asif\n",
      "ID : 12345\n",
      "DOB : 1991\n",
      "Address : Hilsinki\n"
     ]
    }
   ],
   "source": [
    "for i in mydict:\n",
    "    print(i , \":\" ,mydict[i])# key & value pair"
   ]
  },
  {
   "cell_type": "code",
   "execution_count": 255,
   "id": "2314ada1",
   "metadata": {},
   "outputs": [
    {
     "name": "stdout",
     "output_type": "stream",
     "text": [
      "Asif\n",
      "12345\n",
      "1991\n",
      "Hilsinki\n"
     ]
    }
   ],
   "source": [
    "for i in mydict:\n",
    "    print(mydict[i])# Dictionary items"
   ]
  },
  {
   "cell_type": "markdown",
   "id": "72d11805",
   "metadata": {},
   "source": [
    "# Dictinory membership"
   ]
  },
  {
   "cell_type": "code",
   "execution_count": 262,
   "id": "56e9e269",
   "metadata": {},
   "outputs": [
    {
     "data": {
      "text/plain": [
       "{'Name': 'Asif', 'ID': 12345, 'DOB': 1991, 'Job': 'Analyst'}"
      ]
     },
     "execution_count": 262,
     "metadata": {},
     "output_type": "execute_result"
    }
   ],
   "source": [
    "mydict1 = {'Name':'Asif' , 'ID': 12345 , 'DOB': 1991 , 'Job': 'Analyst'}\n",
    "mydict1\n"
   ]
  },
  {
   "cell_type": "code",
   "execution_count": 264,
   "id": "ed8f23f7",
   "metadata": {},
   "outputs": [
    {
     "data": {
      "text/plain": [
       "True"
      ]
     },
     "execution_count": 264,
     "metadata": {},
     "output_type": "execute_result"
    }
   ],
   "source": [
    "\"Name\" in mydict1 # Test if a key is in a dictionary or not."
   ]
  },
  {
   "cell_type": "code",
   "execution_count": 266,
   "id": "13ba191d",
   "metadata": {},
   "outputs": [
    {
     "data": {
      "text/plain": [
       "False"
      ]
     },
     "execution_count": 266,
     "metadata": {},
     "output_type": "execute_result"
    }
   ],
   "source": [
    "\"asif\" in mydict # Membership test can be only done for keys."
   ]
  },
  {
   "cell_type": "code",
   "execution_count": 267,
   "id": "5ca401ca",
   "metadata": {},
   "outputs": [
    {
     "data": {
      "text/plain": [
       "True"
      ]
     },
     "execution_count": 267,
     "metadata": {},
     "output_type": "execute_result"
    }
   ],
   "source": [
    "\"ID\" in mydict1"
   ]
  },
  {
   "cell_type": "code",
   "execution_count": 268,
   "id": "eb84287a",
   "metadata": {},
   "outputs": [
    {
     "data": {
      "text/plain": [
       "False"
      ]
     },
     "execution_count": 268,
     "metadata": {},
     "output_type": "execute_result"
    }
   ],
   "source": [
    "\"Address\" in mydict1"
   ]
  },
  {
   "cell_type": "markdown",
   "id": "ed84f5f4",
   "metadata": {},
   "source": [
    ":-All / Any\n",
    "\n",
    ":-The all() method returns:\n",
    "\n",
    ":- If all all keys of the dictionary are true\n",
    "\n",
    ":-False - If any key of the dictionary is false\n",
    "\n",
    ":-The any() function returns True if any key of the dictionary is True. If not, any() returns False."
   ]
  },
  {
   "cell_type": "code",
   "execution_count": 269,
   "id": "3cc514aa",
   "metadata": {},
   "outputs": [
    {
     "data": {
      "text/plain": [
       "{'Name': 'Asif', 'ID': 12345, 'DOB': 1991, 'Job': 'Analyst'}"
      ]
     },
     "execution_count": 269,
     "metadata": {},
     "output_type": "execute_result"
    }
   ],
   "source": [
    "mydict1 = {'Name':'Asif' , 'ID': 12345 , 'DOB': 1991 , 'Job': 'Analyst'}\n",
    "mydict1"
   ]
  },
  {
   "cell_type": "code",
   "execution_count": 270,
   "id": "55476b76",
   "metadata": {},
   "outputs": [
    {
     "data": {
      "text/plain": [
       "True"
      ]
     },
     "execution_count": 270,
     "metadata": {},
     "output_type": "execute_result"
    }
   ],
   "source": [
    "all(mydict1)# Will Return false as one value is false (Value 0)\n"
   ]
  },
  {
   "cell_type": "code",
   "execution_count": 271,
   "id": "f8d5a873",
   "metadata": {},
   "outputs": [
    {
     "data": {
      "text/plain": [
       "True"
      ]
     },
     "execution_count": 271,
     "metadata": {},
     "output_type": "execute_result"
    }
   ],
   "source": [
    "any(mydict1)#Will Return True as we have items in the dictionary with True val"
   ]
  },
  {
   "cell_type": "markdown",
   "id": "afd7bc50",
   "metadata": {},
   "source": [
    "# Dictionary comprehension"
   ]
  },
  {
   "cell_type": "code",
   "execution_count": 273,
   "id": "f41307a1",
   "metadata": {},
   "outputs": [
    {
     "data": {
      "text/plain": [
       "{0: 0, 1: 2, 2: 4, 3: 6, 4: 8, 5: 10, 6: 12, 7: 14, 8: 16, 9: 18}"
      ]
     },
     "execution_count": 273,
     "metadata": {},
     "output_type": "execute_result"
    }
   ],
   "source": [
    "double = {i:i*2 for i in range(10)}#double each value using dict comprehension\n",
    "double"
   ]
  },
  {
   "cell_type": "code",
   "execution_count": 274,
   "id": "50f035bf",
   "metadata": {},
   "outputs": [
    {
     "data": {
      "text/plain": [
       "{0: 0, 1: 1, 2: 4, 3: 9, 4: 16, 5: 25, 6: 36, 7: 49, 8: 64, 9: 81}"
      ]
     },
     "execution_count": 274,
     "metadata": {},
     "output_type": "execute_result"
    }
   ],
   "source": [
    "square = {i:i**2 for i in range(10)}\n",
    "square"
   ]
  },
  {
   "cell_type": "code",
   "execution_count": 276,
   "id": "12ee417e",
   "metadata": {},
   "outputs": [
    {
     "data": {
      "text/plain": [
       "{'one': 1, 'two': 2, 'three': 3, 'four': 4, 'five': 5}"
      ]
     },
     "execution_count": 276,
     "metadata": {},
     "output_type": "execute_result"
    }
   ],
   "source": [
    "key = [\"one\" , \"two\" , \"three\" ,\"four\" , \"five\"]\n",
    "value = [1,2,3,4,5]\n",
    "\n",
    "mydict = {k:v for (k,v) in zip(key,value)}\n",
    "mydict"
   ]
  },
  {
   "cell_type": "code",
   "execution_count": 278,
   "id": "a5d8c7fc",
   "metadata": {},
   "outputs": [
    {
     "data": {
      "text/plain": [
       "{'a': 0.1, 'b': 0.2, 'c': 0.3, 'd': 4.0, 'e': 5.0}"
      ]
     },
     "execution_count": 278,
     "metadata": {},
     "output_type": "execute_result"
    }
   ],
   "source": [
    "mydict1 = {\"a\":1.0 , \"b\":2.0 , \"c\":3.0 , \"d\":40 , \"e\":50}\n",
    "mydict1 = {k:v/10 for (k,v) in mydict1.items()}\n",
    "mydict1"
   ]
  },
  {
   "cell_type": "code",
   "execution_count": 279,
   "id": "2fb4c38f",
   "metadata": {},
   "outputs": [
    {
     "data": {
      "text/plain": [
       "{0: 'N',\n",
       " 1: 'a',\n",
       " 2: 't',\n",
       " 3: 'u',\n",
       " 4: 'r',\n",
       " 5: 'e',\n",
       " 6: 'l',\n",
       " 7: ' ',\n",
       " 8: 'L',\n",
       " 9: 'a',\n",
       " 10: 'n',\n",
       " 11: 'g',\n",
       " 12: 'u',\n",
       " 13: 'a',\n",
       " 14: 'g',\n",
       " 15: 'e',\n",
       " 16: ' ',\n",
       " 17: 'p',\n",
       " 18: 'r',\n",
       " 19: 'o',\n",
       " 20: 'c',\n",
       " 21: 'e',\n",
       " 22: 's',\n",
       " 23: 's',\n",
       " 24: 'i',\n",
       " 25: 'n',\n",
       " 26: 'g'}"
      ]
     },
     "execution_count": 279,
     "metadata": {},
     "output_type": "execute_result"
    }
   ],
   "source": [
    "str1 = \"Naturel Language processing\"\n",
    "\n",
    "mydict2 = {k:v for (k,v) in enumerate(str1)}# Store enumerated values in a dictionary\n",
    "mydict2"
   ]
  },
  {
   "cell_type": "code",
   "execution_count": 282,
   "id": "5486d61b",
   "metadata": {},
   "outputs": [
    {
     "data": {
      "text/plain": [
       "{'a': 'A',\n",
       " 'b': 'B',\n",
       " 'c': 'C',\n",
       " 'd': 'D',\n",
       " 'e': 'E',\n",
       " 'f': 'F',\n",
       " 'g': 'G',\n",
       " 'h': 'H',\n",
       " 'i': 'I',\n",
       " 'j': 'J',\n",
       " 'k': 'K',\n",
       " 'l': 'L',\n",
       " 'm': 'M',\n",
       " 'n': 'N',\n",
       " 'o': 'O',\n",
       " 'p': 'P',\n",
       " 'q': 'Q',\n",
       " 'r': 'R',\n",
       " 's': 'S',\n",
       " 't': 'T',\n",
       " 'u': 'U',\n",
       " 'v': 'V',\n",
       " 'w': 'W',\n",
       " 'x': 'X',\n",
       " 'y': 'Y',\n",
       " 'z': 'Z'}"
      ]
     },
     "execution_count": 282,
     "metadata": {},
     "output_type": "execute_result"
    }
   ],
   "source": [
    "str1 = \"abcdefghijklmnopqrstuvwxyz\"\n",
    "mydict3 = {i:i.upper() for i in str1}\n",
    "mydict3"
   ]
  },
  {
   "cell_type": "markdown",
   "id": "64e11daa",
   "metadata": {},
   "source": [
    "# Word Frequency using dictionary\n"
   ]
  },
  {
   "cell_type": "code",
   "execution_count": 283,
   "id": "fa0708eb",
   "metadata": {},
   "outputs": [],
   "source": [
    "mystr4 = \"one two three four one two two three five five six seven six seven one\" \n"
   ]
  },
  {
   "cell_type": "code",
   "execution_count": 284,
   "id": "f6d243e8",
   "metadata": {},
   "outputs": [
    {
     "data": {
      "text/plain": [
       "['one',\n",
       " 'two',\n",
       " 'three',\n",
       " 'four',\n",
       " 'one',\n",
       " 'two',\n",
       " 'two',\n",
       " 'three',\n",
       " 'five',\n",
       " 'five',\n",
       " 'six',\n",
       " 'seven',\n",
       " 'six',\n",
       " 'seven',\n",
       " 'one']"
      ]
     },
     "execution_count": 284,
     "metadata": {},
     "output_type": "execute_result"
    }
   ],
   "source": [
    "mylist = mystr4.split() ## Split String into substrings\n",
    "mylist"
   ]
  },
  {
   "cell_type": "code",
   "execution_count": 285,
   "id": "b5c82bf9",
   "metadata": {},
   "outputs": [
    {
     "data": {
      "text/plain": [
       "['one',\n",
       " 'two',\n",
       " 'three',\n",
       " 'four',\n",
       " 'one',\n",
       " 'two',\n",
       " 'two',\n",
       " 'three',\n",
       " 'five',\n",
       " 'five',\n",
       " 'six',\n",
       " 'seven',\n",
       " 'six',\n",
       " 'seven',\n",
       " 'one']"
      ]
     },
     "execution_count": 285,
     "metadata": {},
     "output_type": "execute_result"
    }
   ],
   "source": [
    "mylist1 = set(mylist) #unique value a list\n",
    "mylist1 = list(mylist)\n",
    "mylist1"
   ]
  },
  {
   "cell_type": "code",
   "execution_count": 288,
   "id": "537502c1",
   "metadata": {},
   "outputs": [
    {
     "name": "stdout",
     "output_type": "stream",
     "text": [
      "{'one': 3, 'two': 3, 'three': 2, 'four': 1}\n"
     ]
    }
   ],
   "source": [
    "#calclate frequent of each word\n",
    "count1 = [0] *len(mylist1)\n",
    "mydict5 = dict()\n",
    "for i in range(len(mydict1)):\n",
    "    for j in range(len(mylist)):\n",
    "        if mylist1[i] == mylist[j]:\n",
    "            count1[i] += 1\n",
    "    mydict5[mylist1[i]] = count1[i]\n",
    "print(mydict5)"
   ]
  },
  {
   "cell_type": "markdown",
   "id": "88907e32",
   "metadata": {},
   "source": [
    "# Operators\n",
    ":-Operators are special symbols in Python which are used to perform operations on\n",
    "variables/values.\n",
    "# Arithmetic Operators"
   ]
  },
  {
   "cell_type": "code",
   "execution_count": 291,
   "id": "f6f161f2",
   "metadata": {},
   "outputs": [
    {
     "name": "stdout",
     "output_type": "stream",
     "text": [
      "addition of 5 and 2 will give :- 7\n",
      "\n",
      "Concatenate string 'x' and 'y' using '+' operaotr :- asifamir\n",
      "\n",
      "substracting of 5 and 2 will give :- 3\n",
      "\n",
      "multiplying of 5 and 2 will give :- 10\n",
      "\n",
      "Dividing of 5 and 2 will give :- 2.5\n",
      "\n",
      "Modulo of 5 , 2 will give :- 1\n",
      "\n",
      "5 raised to the power 2 will give :- 25\n",
      "\n",
      "Floor division of 5 by 2 will give :- 2\n",
      "\n"
     ]
    }
   ],
   "source": [
    "a = 5\n",
    "b = 2\n",
    "\n",
    "x = \"asif\"\n",
    "y = \"amir\"\n",
    "\n",
    "#addition\n",
    "c = a + b\n",
    "print(\"addition of {} and {} will give :- {}\\n\".format(a,b,c))\n",
    "\n",
    "#concatenate string using plus operator\n",
    "z = x+y\n",
    "print('Concatenate string \\'x\\' and \\'y\\' using \\'+\\' operaotr :- {}\\n'.format(z))\n",
    "\n",
    "#subtraction\n",
    "\n",
    "c = a - b\n",
    "print(\"substracting of {} and {} will give :- {}\\n\".format(a,b,c))\n",
    "\n",
    "# multiplication\n",
    "c = a * b\n",
    "print(\"multiplying of {} and {} will give :- {}\\n\".format(a,b,c))\n",
    "\n",
    "#Division\n",
    "\n",
    "c = a / b\n",
    "print(\"Dividing of {} and {} will give :- {}\\n\".format(a,b,c))\n",
    "\n",
    "# module of both number\n",
    "c = a % b\n",
    "print('Modulo of {} , {} will give :- {}\\n'.format(a,b,c))\n",
    "\n",
    "#power\n",
    "c = a ** b\n",
    "print('{} raised to the power {} will give :- {}\\n'.format(a,b,c))\n",
    "\n",
    "# Division (floor)\n",
    "c = a// b\n",
    "print('Floor division of {} by {} will give :- {}\\n'.format(a,b,c))\n",
    "\n",
    "\n",
    "\n"
   ]
  },
  {
   "cell_type": "code",
   "execution_count": 2,
   "id": "f51e1269",
   "metadata": {},
   "outputs": [
    {
     "name": "stdout",
     "output_type": "stream",
     "text": [
      "Is x is grater then :- False\n",
      "\n",
      "Is x less then y :-  True\n",
      "nIs x equal to y :-  False\n",
      "nIs x not equal to y :-  True\n",
      "nIs x greater then or equal to y :- False\n",
      "nIs x less then or equal to y:- True\n"
     ]
    }
   ],
   "source": [
    "x = 200\n",
    "y = 300\n",
    "\n",
    "print(\"Is x is grater then :-\",x>y)\n",
    "\n",
    "print(\"\\nIs x less then y :- \",x<y)\n",
    "\n",
    "print(\"nIs x equal to y :- \",x==y)\n",
    "\n",
    "print(\"nIs x not equal to y :- \",x!=y)\n",
    "\n",
    "print(\"nIs x greater then or equal to y :-\",x>=y)\n",
    "\n",
    "print(\"nIs x less then or equal to y:-\",x<=y)\n",
    "\n",
    "\n"
   ]
  },
  {
   "cell_type": "code",
   "execution_count": 3,
   "id": "8641c6c2",
   "metadata": {},
   "outputs": [
    {
     "data": {
      "text/plain": [
       "(False, False, True)"
      ]
     },
     "execution_count": 3,
     "metadata": {},
     "output_type": "execute_result"
    }
   ],
   "source": [
    "a = \"Asif\"\n",
    "b = \"Amirul\"\n",
    "c = \"amir\"\n",
    "\n",
    "a == b , a == c , a != b # Comparison operators on string"
   ]
  },
  {
   "cell_type": "markdown",
   "id": "ae7e9542",
   "metadata": {},
   "source": [
    " # logical operator"
   ]
  },
  {
   "cell_type": "code",
   "execution_count": 4,
   "id": "b718e46a",
   "metadata": {},
   "outputs": [
    {
     "name": "stdout",
     "output_type": "stream",
     "text": [
      "Logical AND Operation :- False\n",
      "Logical or operation :- True\n",
      "Not operation :- False\n"
     ]
    }
   ],
   "source": [
    "x = True\n",
    "y = False\n",
    "\n",
    "print(\"Logical AND Operation :-\",x and y)# True if both values are true\n",
    "print(\"Logical or operation :-\",x or y) # true if either of the value is true\n",
    "print(\"Not operation :-\",not x ) # true if operand is false\n"
   ]
  },
  {
   "cell_type": "markdown",
   "id": "6cd4935d",
   "metadata": {},
   "source": [
    "# Bitwise operators"
   ]
  },
  {
   "cell_type": "markdown",
   "id": "49a780a7",
   "metadata": {},
   "source": [
    "Bitwise operators act on bits and performs bit by bit operation.\n"
   ]
  },
  {
   "cell_type": "code",
   "execution_count": 2,
   "id": "1d6035a2",
   "metadata": {},
   "outputs": [
    {
     "name": "stdout",
     "output_type": "stream",
     "text": [
      "Bitwise AND operation - 2\n",
      "Bitwise OR operation - 22\n",
      "Bitwise XOR operation - 20\n",
      "Bitwise NOT operation - -19\n",
      "Bitwise right shift operation - 4\n",
      "Bitwise left shift operation - 72\n"
     ]
    }
   ],
   "source": [
    "x = 18# binary from 10010\n",
    "y = 6 # binary form\n",
    "\n",
    "print('Bitwise AND operation - {}'.format(x&y))\n",
    "print('Bitwise OR operation - {}'.format(x|y))\n",
    "print('Bitwise XOR operation - {}'.format(x^y))\n",
    "print('Bitwise NOT operation - {}'.format(~x))\n",
    "print('Bitwise right shift operation - {}'.format(x>>2))\n",
    "print('Bitwise left shift operation - {}'.format(x<<2))"
   ]
  },
  {
   "cell_type": "markdown",
   "id": "482c37ab",
   "metadata": {},
   "source": [
    "# Assignment operator"
   ]
  },
  {
   "cell_type": "code",
   "execution_count": 3,
   "id": "473a8c9f",
   "metadata": {},
   "outputs": [
    {
     "name": "stdout",
     "output_type": "stream",
     "text": [
      "initialize c with value 10 (x=10)) :- 18\n",
      "add 20  to x :-  38\n",
      "substract 20 from x :- 18\n",
      "divide x by 10 :- 1.8\n",
      "multiply x by10 :- 18.0\n",
      "x raised to the power 2 :- 324\n",
      "modulo Division :- 0\n",
      "Floor Division :-  6\n",
      "Bitwise AND :-  2\n",
      "Bitwise OR :-  2\n",
      "Bitwise XOR :-  0\n",
      "Bitwise left shift operation 4\n",
      "Bitwise right shift operation 1\n"
     ]
    }
   ],
   "source": [
    "X = 10\n",
    "\n",
    "print (\"initialize c with value 10 (x=10)) :-\",x)\n",
    "\n",
    "x+=20 #x = x+20\n",
    "print (\"add 20  to x :- \",x)\n",
    "\n",
    "x-=20 #x = x-20\n",
    "print(\"substract 20 from x :-\",x)\n",
    "\n",
    "x/=10 # x = x/10\n",
    "print (\"divide x by 10 :-\",x)\n",
    "\n",
    "x*=10 # x = x/10\n",
    "print (\"multiply x by10 :-\",x)\n",
    "\n",
    "x= int(x)\n",
    "\n",
    "x**=2 # x = x/10\n",
    "print (\"x raised to the power 2 :-\",x)\n",
    "\n",
    "\n",
    "x%=2\n",
    "print (\"modulo Division :-\",x)\n",
    "\n",
    "x = 20\n",
    "\n",
    "x//=3\n",
    "print ('Floor Division :- ',x)\n",
    "\n",
    "x&=2\n",
    "print('Bitwise AND :- ',x)\n",
    "\n",
    "x|=2\n",
    "print('Bitwise OR :- ',x)\n",
    "\n",
    "x^=2\n",
    "print('Bitwise XOR :- ',x)\n",
    "\n",
    "x = 1\n",
    "\n",
    "x<<=2\n",
    "print('Bitwise left shift operation',x)\n",
    "\n",
    "x>>=2\n",
    "print('Bitwise right shift operation',x)\n",
    "\n",
    "\n"
   ]
  },
  {
   "cell_type": "code",
   "execution_count": null,
   "id": "375f72c3",
   "metadata": {},
   "outputs": [],
   "source": []
  }
 ],
 "metadata": {
  "kernelspec": {
   "display_name": "Python 3 (ipykernel)",
   "language": "python",
   "name": "python3"
  },
  "language_info": {
   "codemirror_mode": {
    "name": "ipython",
    "version": 3
   },
   "file_extension": ".py",
   "mimetype": "text/x-python",
   "name": "python",
   "nbconvert_exporter": "python",
   "pygments_lexer": "ipython3",
   "version": "3.10.9"
  }
 },
 "nbformat": 4,
 "nbformat_minor": 5
}
